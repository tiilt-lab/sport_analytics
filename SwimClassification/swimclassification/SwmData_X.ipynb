{
  "nbformat": 4,
  "nbformat_minor": 0,
  "metadata": {
    "colab": {
      "provenance": []
    },
    "kernelspec": {
      "name": "python3",
      "display_name": "Python 3"
    },
    "language_info": {
      "name": "python"
    }
  },
  "cells": [
    {
      "cell_type": "code",
      "execution_count": null,
      "metadata": {
        "id": "xiKQhASix6U-"
      },
      "outputs": [],
      "source": []
    },
    {
      "cell_type": "markdown",
      "source": [
        "# Data only contains accelerometer data"
      ],
      "metadata": {
        "id": "YH0bT6GvOz8g"
      }
    },
    {
      "cell_type": "code",
      "source": [],
      "metadata": {
        "id": "Cq_PcM5p-z7l"
      },
      "execution_count": null,
      "outputs": []
    },
    {
      "cell_type": "markdown",
      "source": [
        "# Data Loading and preprocessing\n"
      ],
      "metadata": {
        "id": "DeFdXpVI-0H8"
      }
    },
    {
      "cell_type": "code",
      "source": [
        "import pandas as pd\n",
        "from sklearn.preprocessing import StandardScaler\n"
      ],
      "metadata": {
        "id": "9-rB7eZ0-6IG"
      },
      "execution_count": null,
      "outputs": []
    },
    {
      "cell_type": "code",
      "source": [
        "data_frames= []"
      ],
      "metadata": {
        "id": "VjEHiB6RAhmZ"
      },
      "execution_count": null,
      "outputs": []
    },
    {
      "cell_type": "code",
      "source": [
        "from sklearn.utils import shuffle\n",
        "\n",
        "csv_files = ['FlyX.csv', 'BackX.csv', 'BreastX.csv', 'FreeX.csv']\n",
        "\n",
        "\n",
        "# Load each file\n",
        "for file in csv_files:\n",
        "    df = pd.read_csv(file)\n",
        "    data_frames.append(df)\n",
        "\n",
        "# Concatenate all the data frames\n",
        "combined_df = pd.concat(data_frames, ignore_index=True)\n",
        "\n",
        "# applying scaler to normalize\n",
        "scaler = StandardScaler()\n",
        "features = ['x', 'y', 'z']\n",
        "\n",
        "combined_df[features] = scaler.fit_transform(combined_df[features])\n",
        "\n",
        "#shuffling data\n",
        "combined_df = shuffle(combined_df, random_state=42)\n",
        "\n",
        "\n",
        "\n",
        "#double check\n",
        "print(combined_df.head(-1))"
      ],
      "metadata": {
        "id": "mZV-C444Akag",
        "outputId": "a6536f6d-c63d-4a45-c37c-bed140530e85",
        "colab": {
          "base_uri": "https://localhost:8080/"
        }
      },
      "execution_count": null,
      "outputs": [
        {
          "output_type": "stream",
          "name": "stdout",
          "text": [
            "       Time (seconds)         x         y         z  stroke\n",
            "17925          192.34  0.414440 -0.236123  0.149372       2\n",
            "4845           299.59  0.504042  0.567691 -1.178611       3\n",
            "7325           350.93  0.373381 -0.001899  0.393540       0\n",
            "7581           361.97  0.364607 -0.007441  0.389010       0\n",
            "17031          153.66  0.430811 -0.216646  0.150673       2\n",
            "...               ...       ...       ...       ...     ...\n",
            "21575          301.34  0.360161 -0.005128  0.388462       0\n",
            "29802          324.23 -0.115604  3.468772 -0.270539       4\n",
            "5390           323.07 -1.228150  0.795724 -0.490327       3\n",
            "860            192.80 -0.707084  0.073621 -0.993526       1\n",
            "15795          172.93  0.523758 -0.048472  0.265411       1\n",
            "\n",
            "[30791 rows x 5 columns]\n"
          ]
        }
      ]
    },
    {
      "cell_type": "code",
      "source": [
        "\n"
      ],
      "metadata": {
        "id": "c1EG9CLzDIj9",
        "colab": {
          "base_uri": "https://localhost:8080/"
        },
        "outputId": "72eb4997-cbf7-4bd0-e8ef-5e5d2180864e"
      },
      "execution_count": null,
      "outputs": [
        {
          "output_type": "stream",
          "name": "stdout",
          "text": [
            "0\n"
          ]
        }
      ]
    },
    {
      "cell_type": "markdown",
      "source": [
        "# Preparing the Model"
      ],
      "metadata": {
        "id": "raMJXHqvEmYy"
      }
    },
    {
      "cell_type": "code",
      "source": [],
      "metadata": {
        "id": "GTowHSQRErar"
      },
      "execution_count": null,
      "outputs": []
    },
    {
      "cell_type": "markdown",
      "source": [
        "**LSTM/ CNN**"
      ],
      "metadata": {
        "id": "0Z1q223ZF9lw"
      }
    },
    {
      "cell_type": "code",
      "source": [
        "# Encoding labels\n",
        "\n",
        "from sklearn.preprocessing import LabelEncoder\n",
        "from tensorflow.keras.utils import to_categorical\n",
        "\n",
        "# Encoding labels\n",
        "encoder = LabelEncoder()\n",
        "combined_df['stroke'] = encoder.fit_transform(combined_df['stroke'])\n",
        "\n",
        "# Convert the integer-encoded labels into one-hot encoding format\n",
        "\n",
        "labels = to_categorical(combined_df['stroke'].values)\n",
        "\n"
      ],
      "metadata": {
        "id": "CRdN09lsQdtD"
      },
      "execution_count": null,
      "outputs": []
    },
    {
      "cell_type": "code",
      "source": [
        "import numpy as np\n",
        "\n",
        "sequence_length = 50  #initally picked at random\n",
        "\n",
        "# Define a function to create sequences from the data\n",
        "\n",
        "def create_sequences(data, labels, sequence_length):\n",
        "    X, y = [], []\n",
        "    # Iterate through the data to create sequences of the specified length\n",
        "\n",
        "    for i in range(len(data) - sequence_length + 1):\n",
        "        # Append a new sequence of data from position i to i + sequence_length to X\n",
        "        X.append(data[i:(i + sequence_length)])\n",
        "\n",
        "        # Append the label corresponding to the end of the sequence to y\n",
        "        y.append(labels[i + sequence_length - 1])\n",
        "    return np.array(X), np.array(y)\n",
        "\n",
        "# Extract the feature data as a numpy array from the combined dataframe\n",
        "\n",
        "data = combined_df[features].values\n",
        "\n",
        "# Use the create_sequences function to generate sequences and their corresponding labels from the data\n",
        "\n",
        "X, y = create_sequences(data, labels, sequence_length)\n"
      ],
      "metadata": {
        "id": "Ko6qWTGWGBT9"
      },
      "execution_count": null,
      "outputs": []
    },
    {
      "cell_type": "code",
      "source": [
        "from sklearn.model_selection import train_test_split\n",
        "\n",
        "#splitting up training/testing data\n",
        "X_train, X_test, y_train, y_test = train_test_split(X, y, test_size=0.2, random_state=42)\n"
      ],
      "metadata": {
        "id": "t6ZpxGrzHrko"
      },
      "execution_count": null,
      "outputs": []
    },
    {
      "cell_type": "markdown",
      "source": [
        "**LSTM**"
      ],
      "metadata": {
        "id": "wwdhseprJAHn"
      }
    },
    {
      "cell_type": "code",
      "source": [
        "from tensorflow.keras.models import Sequential\n",
        "from tensorflow.keras.layers import LSTM, Dense\n",
        "\n",
        "model_lstm = Sequential()\n",
        "\n",
        "# Add the first LSTM layer with 50 units.\n",
        "\n",
        "model_lstm.add(LSTM(units=50, return_sequences=True, input_shape=(X_train.shape[1], X_train.shape[2])))\n",
        "\n",
        "# Add the second LSTM layer with 50 units.\n",
        "\n",
        "model_lstm.add(LSTM(units=50))\n",
        "\n",
        "#Add a fully connected layer that will output the predicted probabilities.\n",
        "# The number of units equals the number of categories, using a softmax activation function\n",
        "model_lstm.add(Dense(units=y_train.shape[1], activation='softmax'))\n",
        "\n",
        "model_lstm.compile(loss='categorical_crossentropy', optimizer='adam', metrics=['accuracy'])\n",
        "\n",
        "#training the model\n",
        "model_lstm.fit(X_train, y_train, epochs=10, batch_size=32, validation_split=0.1)\n",
        "\n",
        "# Evaluate the model on the test set\n",
        "test_loss, test_accuracy = model_lstm.evaluate(X_test, y_test)\n",
        "\n",
        "print(f\"Test Loss: {test_loss}\")\n",
        "print(f\"Test Accuracy: {test_accuracy}\")\n",
        "\n"
      ],
      "metadata": {
        "colab": {
          "base_uri": "https://localhost:8080/"
        },
        "id": "hUykRMv5I6-s",
        "outputId": "7c08f231-2fba-4c1d-97f5-89ab3baf6401"
      },
      "execution_count": null,
      "outputs": [
        {
          "output_type": "stream",
          "name": "stdout",
          "text": [
            "Epoch 1/10\n",
            "692/692 [==============================] - 48s 63ms/step - loss: 1.0938 - accuracy: 0.5361 - val_loss: 0.8302 - val_accuracy: 0.6516\n",
            "Epoch 2/10\n",
            "692/692 [==============================] - 44s 64ms/step - loss: 0.7134 - accuracy: 0.6973 - val_loss: 0.6142 - val_accuracy: 0.7451\n",
            "Epoch 3/10\n",
            "692/692 [==============================] - 45s 66ms/step - loss: 0.5828 - accuracy: 0.7695 - val_loss: 0.5390 - val_accuracy: 0.7882\n",
            "Epoch 4/10\n",
            "692/692 [==============================] - 45s 65ms/step - loss: 0.5261 - accuracy: 0.7993 - val_loss: 0.5021 - val_accuracy: 0.7943\n",
            "Epoch 5/10\n",
            "692/692 [==============================] - 55s 80ms/step - loss: 0.4883 - accuracy: 0.8097 - val_loss: 0.4801 - val_accuracy: 0.8033\n",
            "Epoch 6/10\n",
            "692/692 [==============================] - 45s 65ms/step - loss: 0.4605 - accuracy: 0.8175 - val_loss: 0.4476 - val_accuracy: 0.8167\n",
            "Epoch 7/10\n",
            "692/692 [==============================] - 44s 63ms/step - loss: 0.4428 - accuracy: 0.8250 - val_loss: 0.4351 - val_accuracy: 0.8256\n",
            "Epoch 8/10\n",
            "692/692 [==============================] - 46s 67ms/step - loss: 0.4313 - accuracy: 0.8266 - val_loss: 0.4355 - val_accuracy: 0.8163\n",
            "Epoch 9/10\n",
            "692/692 [==============================] - 45s 65ms/step - loss: 0.4223 - accuracy: 0.8285 - val_loss: 0.4278 - val_accuracy: 0.8248\n",
            "Epoch 10/10\n",
            "692/692 [==============================] - 45s 65ms/step - loss: 0.4148 - accuracy: 0.8326 - val_loss: 0.4145 - val_accuracy: 0.8268\n",
            "193/193 [==============================] - 4s 23ms/step - loss: 0.4168 - accuracy: 0.8286\n",
            "Test Loss: 0.41680896282196045\n",
            "Test Accuracy: 0.8285900354385376\n"
          ]
        }
      ]
    },
    {
      "cell_type": "code",
      "source": [
        "from sklearn.metrics import classification_report\n",
        "import numpy as np\n",
        "\n",
        "# Generate predictions for the test set\n",
        "y_pred = model_lstm.predict(X_test)\n",
        "y_pred_classes = np.argmax(y_pred, axis=1)\n",
        "y_test_classes = np.argmax(y_test, axis=1)\n",
        "\n",
        "# Calculate precision, recall, and F1-score\n",
        "report = classification_report(y_test_classes, y_pred_classes)\n",
        "print(report)\n"
      ],
      "metadata": {
        "colab": {
          "base_uri": "https://localhost:8080/"
        },
        "id": "vEGNzgs-Kwir",
        "outputId": "81aa6055-76ea-4a95-c08b-ff1b4f55e8fb"
      },
      "execution_count": null,
      "outputs": [
        {
          "output_type": "stream",
          "name": "stdout",
          "text": [
            "193/193 [==============================] - 4s 19ms/step\n",
            "              precision    recall  f1-score   support\n",
            "\n",
            "           0       1.00      1.00      1.00       877\n",
            "           1       0.74      0.49      0.59      1293\n",
            "           2       0.98      0.92      0.95      1710\n",
            "           3       0.70      0.92      0.80      1946\n",
            "           4       0.83      0.67      0.74       323\n",
            "\n",
            "    accuracy                           0.83      6149\n",
            "   macro avg       0.85      0.80      0.82      6149\n",
            "weighted avg       0.84      0.83      0.82      6149\n",
            "\n"
          ]
        }
      ]
    },
    {
      "cell_type": "code",
      "source": [
        "from sklearn.metrics import confusion_matrix\n",
        "import seaborn as sns\n",
        "import matplotlib.pyplot as plt\n",
        "\n",
        "# Calculate the confusion matrix\n",
        "conf_matrix = confusion_matrix(y_test_classes, y_pred_classes)\n",
        "\n",
        "# Plot the confusion matrix\n",
        "plt.figure(figsize=(10, 8))\n",
        "sns.heatmap(conf_matrix, annot=True, fmt='g')\n",
        "plt.title('Confusion Matrix')\n",
        "plt.ylabel('Actual Label')\n",
        "plt.xlabel('Predicted Label')\n",
        "plt.show()\n"
      ],
      "metadata": {
        "colab": {
          "base_uri": "https://localhost:8080/",
          "height": 718
        },
        "id": "qqVVqarsLy3Z",
        "outputId": "6f62dd1e-47eb-4ae0-8121-decd7b4610ad"
      },
      "execution_count": null,
      "outputs": [
        {
          "output_type": "display_data",
          "data": {
            "text/plain": [
              "<Figure size 1000x800 with 2 Axes>"
            ],
            "image/png": "[encoded data removed]"
          },
          "metadata": {}
        }
      ]
    },
    {
      "cell_type": "markdown",
      "source": [
        "**CNN**"
      ],
      "metadata": {
        "id": "GYH-H0MJJDV5"
      }
    },
    {
      "cell_type": "code",
      "source": [
        "from tensorflow.keras.models import Sequential\n",
        "from tensorflow.keras.layers import Conv1D, MaxPooling1D, Flatten, Dense\n",
        "\n",
        "model_cnn = Sequential()\n",
        "\n",
        "# Add a 1D Convolutional layer to process sequences\n",
        "\n",
        "model_cnn.add(Conv1D(filters=64, kernel_size=3, activation='relu', input_shape=(X_train.shape[1], X_train.shape[2])))\n",
        "\n",
        "# Add a Max Pooling layer to reduce the dimensionality of the sequence data\n",
        "model_cnn.add(MaxPooling1D(pool_size=2))\n",
        "\n",
        "# Flatten the output of the pooling layer\n",
        "model_cnn.add(Flatten())\n",
        "\n",
        "# Add a fully connected  layer for classification with relu\n",
        "model_cnn.add(Dense(50, activation='relu'))\n",
        "\n",
        "#add in output layer\n",
        "model_cnn.add(Dense(y_train.shape[1], activation='softmax'))\n",
        "\n",
        "model_cnn.compile(loss='categorical_crossentropy', optimizer='adam', metrics=['accuracy'])\n",
        "\n",
        "#train model\n",
        "model_cnn.fit(X_train, y_train, epochs=10, batch_size=32, validation_split=0.1)\n",
        "\n",
        "\n"
      ],
      "metadata": {
        "colab": {
          "base_uri": "https://localhost:8080/"
        },
        "id": "jxm8TKguI8Ay",
        "outputId": "c775e401-c08d-4933-bb17-c88599d846ba"
      },
      "execution_count": null,
      "outputs": [
        {
          "output_type": "stream",
          "name": "stdout",
          "text": [
            "Epoch 1/10\n",
            "692/692 [==============================] - 7s 8ms/step - loss: 1.3023 - accuracy: 0.4500 - val_loss: 1.1621 - val_accuracy: 0.4992\n",
            "Epoch 2/10\n",
            "692/692 [==============================] - 4s 5ms/step - loss: 1.0885 - accuracy: 0.5375 - val_loss: 1.0425 - val_accuracy: 0.5492\n",
            "Epoch 3/10\n",
            "692/692 [==============================] - 4s 5ms/step - loss: 1.0129 - accuracy: 0.5743 - val_loss: 1.0155 - val_accuracy: 0.5598\n",
            "Epoch 4/10\n",
            "692/692 [==============================] - 5s 7ms/step - loss: 0.9694 - accuracy: 0.5956 - val_loss: 0.9711 - val_accuracy: 0.5813\n",
            "Epoch 5/10\n",
            "692/692 [==============================] - 4s 6ms/step - loss: 0.9340 - accuracy: 0.6139 - val_loss: 0.9711 - val_accuracy: 0.5846\n",
            "Epoch 6/10\n",
            "692/692 [==============================] - 4s 6ms/step - loss: 0.9087 - accuracy: 0.6218 - val_loss: 0.9737 - val_accuracy: 0.5988\n",
            "Epoch 7/10\n",
            "692/692 [==============================] - 5s 7ms/step - loss: 0.8779 - accuracy: 0.6381 - val_loss: 0.9210 - val_accuracy: 0.6203\n",
            "Epoch 8/10\n",
            "692/692 [==============================] - 4s 5ms/step - loss: 0.8506 - accuracy: 0.6515 - val_loss: 0.9127 - val_accuracy: 0.6329\n",
            "Epoch 9/10\n",
            "692/692 [==============================] - 4s 5ms/step - loss: 0.8250 - accuracy: 0.6630 - val_loss: 0.9207 - val_accuracy: 0.6118\n",
            "Epoch 10/10\n",
            "692/692 [==============================] - 5s 7ms/step - loss: 0.8035 - accuracy: 0.6755 - val_loss: 0.8825 - val_accuracy: 0.6321\n"
          ]
        },
        {
          "output_type": "execute_result",
          "data": {
            "text/plain": [
              "<keras.src.callbacks.History at 0x7f680211a110>"
            ]
          },
          "metadata": {},
          "execution_count": 44
        }
      ]
    },
    {
      "cell_type": "code",
      "source": [
        "test_loss, test_accuracy = model_cnn.evaluate(X_test, y_test)\n",
        "\n",
        "print(f\"Test Loss: {test_loss}\")\n",
        "print(f\"Test Accuracy: {test_accuracy}\")"
      ],
      "metadata": {
        "colab": {
          "base_uri": "https://localhost:8080/"
        },
        "id": "GMELXGWOb2mX",
        "outputId": "4c32d6f3-4fc3-43d4-c80b-1914f7f9ca70"
      },
      "execution_count": null,
      "outputs": [
        {
          "output_type": "stream",
          "name": "stdout",
          "text": [
            "193/193 [==============================] - 2s 9ms/step - loss: 0.8875 - accuracy: 0.6339\n",
            "Test Loss: 0.887535572052002\n",
            "Test Accuracy: 0.6339241862297058\n"
          ]
        }
      ]
    },
    {
      "cell_type": "code",
      "source": [
        "y_pred = model_cnn.predict(X_test)\n",
        "y_pred_classes = np.argmax(y_pred, axis=1)\n",
        "y_test_classes = np.argmax(y_test, axis=1)\n",
        "\n",
        "# Calculate precision, recall, and F1-score\n",
        "report = classification_report(y_test_classes, y_pred_classes)\n",
        "print(report)"
      ],
      "metadata": {
        "colab": {
          "base_uri": "https://localhost:8080/"
        },
        "id": "wHjGdggLcwM_",
        "outputId": "900ee6a0-f750-4007-dd59-ec9e8e2374d7"
      },
      "execution_count": null,
      "outputs": [
        {
          "output_type": "stream",
          "name": "stdout",
          "text": [
            "193/193 [==============================] - 1s 4ms/step\n",
            "              precision    recall  f1-score   support\n",
            "\n",
            "           0       0.56      0.74      0.64       877\n",
            "           1       0.49      0.45      0.47      1293\n",
            "           2       0.77      0.76      0.77      1710\n",
            "           3       0.64      0.62      0.63      1946\n",
            "           4       0.69      0.45      0.54       323\n",
            "\n",
            "    accuracy                           0.63      6149\n",
            "   macro avg       0.63      0.61      0.61      6149\n",
            "weighted avg       0.64      0.63      0.63      6149\n",
            "\n"
          ]
        }
      ]
    },
    {
      "cell_type": "code",
      "source": [],
      "metadata": {
        "id": "NiJUAM0IdyRu"
      },
      "execution_count": null,
      "outputs": []
    },
    {
      "cell_type": "markdown",
      "source": [
        "CNN- Adding in 3 hidden layers with dropout"
      ],
      "metadata": {
        "id": "x9lhS0dGdy4l"
      }
    },
    {
      "cell_type": "code",
      "source": [
        "from tensorflow.keras.models import Sequential\n",
        "from tensorflow.keras.layers import Conv1D, MaxPooling1D, Flatten, Dense, Dropout\n",
        "\n",
        "model_cnn = Sequential()\n",
        "# First Convolutional Layer\n",
        "model_cnn.add(Conv1D(filters=64, kernel_size=3, activation='relu', input_shape=(X_train.shape[1], X_train.shape[2])))\n",
        "model_cnn.add(MaxPooling1D(pool_size=2))\n",
        "model_cnn.add(Dropout(0.2))  # Dropout layer for regularization\n",
        "\n",
        "# Second Convolutional Layer\n",
        "model_cnn.add(Conv1D(filters=128, kernel_size=3, activation='relu'))\n",
        "model_cnn.add(MaxPooling1D(pool_size=2))\n",
        "model_cnn.add(Dropout(0.2))  # Another Dropout layer\n",
        "\n",
        "# Third Convolutional Layer\n",
        "model_cnn.add(Conv1D(filters=256, kernel_size=3, activation='relu'))\n",
        "model_cnn.add(MaxPooling1D(pool_size=2))\n",
        "model_cnn.add(Dropout(0.2))  # Another Dropout layer\n",
        "\n",
        "model_cnn.add(Flatten())  # Flatten the output to feed into the Dense layer\n",
        "\n",
        "# fullly connected Layer\n",
        "model_cnn.add(Dense(50, activation='relu'))\n",
        "model_cnn.add(Dropout(0.5))  # Dropout layer before the output layer\n",
        "\n",
        "# Output Layer\n",
        "model_cnn.add(Dense(y_train.shape[1], activation='softmax'))\n",
        "\n",
        "model_cnn.compile(loss='categorical_crossentropy', optimizer='adam', metrics=['accuracy'])\n",
        "model_cnn.fit(X_train, y_train, epochs=10, batch_size=32, validation_split=0.1)\n"
      ],
      "metadata": {
        "colab": {
          "base_uri": "https://localhost:8080/"
        },
        "id": "D9wjJAuXd3gA",
        "outputId": "e2e05871-000a-44b6-8151-b3fca2cbb148"
      },
      "execution_count": null,
      "outputs": [
        {
          "output_type": "stream",
          "name": "stdout",
          "text": [
            "Epoch 1/10\n",
            "692/692 [==============================] - 16s 19ms/step - loss: 1.5080 - accuracy: 0.2912 - val_loss: 1.4921 - val_accuracy: 0.3146\n",
            "Epoch 2/10\n",
            "692/692 [==============================] - 13s 19ms/step - loss: 1.4939 - accuracy: 0.3018 - val_loss: 1.4842 - val_accuracy: 0.3146\n",
            "Epoch 3/10\n",
            "692/692 [==============================] - 14s 20ms/step - loss: 1.4910 - accuracy: 0.3063 - val_loss: 1.4859 - val_accuracy: 0.3146\n",
            "Epoch 4/10\n",
            "692/692 [==============================] - 13s 18ms/step - loss: 1.4897 - accuracy: 0.3062 - val_loss: 1.4863 - val_accuracy: 0.3146\n",
            "Epoch 5/10\n",
            "692/692 [==============================] - 13s 18ms/step - loss: 1.4889 - accuracy: 0.3064 - val_loss: 1.4843 - val_accuracy: 0.3146\n",
            "Epoch 6/10\n",
            "692/692 [==============================] - 13s 18ms/step - loss: 1.4878 - accuracy: 0.3058 - val_loss: 1.4845 - val_accuracy: 0.3146\n",
            "Epoch 7/10\n",
            "692/692 [==============================] - 13s 18ms/step - loss: 1.4869 - accuracy: 0.3070 - val_loss: 1.4831 - val_accuracy: 0.3146\n",
            "Epoch 8/10\n",
            "692/692 [==============================] - 13s 19ms/step - loss: 1.4865 - accuracy: 0.3060 - val_loss: 1.4852 - val_accuracy: 0.3146\n",
            "Epoch 9/10\n",
            "692/692 [==============================] - 12s 18ms/step - loss: 1.4859 - accuracy: 0.3058 - val_loss: 1.4839 - val_accuracy: 0.3138\n",
            "Epoch 10/10\n",
            "692/692 [==============================] - 13s 18ms/step - loss: 1.4858 - accuracy: 0.3043 - val_loss: 1.4836 - val_accuracy: 0.3146\n"
          ]
        },
        {
          "output_type": "execute_result",
          "data": {
            "text/plain": [
              "<keras.src.callbacks.History at 0x7f680cd73a60>"
            ]
          },
          "metadata": {},
          "execution_count": 47
        }
      ]
    },
    {
      "cell_type": "code",
      "source": [
        "test_loss, test_accuracy = model_cnn.evaluate(X_test, y_test)\n",
        "\n",
        "print(f\"Test Loss: {test_loss}\")\n",
        "print(f\"Test Accuracy: {test_accuracy}\")"
      ],
      "metadata": {
        "colab": {
          "base_uri": "https://localhost:8080/"
        },
        "id": "wZsWz-0reeoq",
        "outputId": "4c8a5b0f-a66b-4cf4-fa94-7d1b1dd58d87"
      },
      "execution_count": null,
      "outputs": [
        {
          "output_type": "stream",
          "name": "stdout",
          "text": [
            "193/193 [==============================] - 2s 10ms/step - loss: 1.4819 - accuracy: 0.3165\n",
            "Test Loss: 1.4819401502609253\n",
            "Test Accuracy: 0.31647422909736633\n"
          ]
        }
      ]
    },
    {
      "cell_type": "markdown",
      "source": [],
      "metadata": {
        "id": "Uep1mLwxfQDx"
      }
    },
    {
      "cell_type": "code",
      "source": [
        "\n"
      ],
      "metadata": {
        "id": "KjQZ9HXWfR7c"
      },
      "execution_count": null,
      "outputs": []
    },
    {
      "cell_type": "markdown",
      "source": [
        "**DTW**"
      ],
      "metadata": {
        "id": "7ISmhoNLHr8s"
      }
    },
    {
      "cell_type": "code",
      "source": [
        "!pip install tslearn"
      ],
      "metadata": {
        "colab": {
          "base_uri": "https://localhost:8080/"
        },
        "id": "rPEnfUtduMV3",
        "outputId": "0d50c2d8-f6f4-46df-8f83-325c8257c4eb"
      },
      "execution_count": null,
      "outputs": [
        {
          "output_type": "stream",
          "name": "stdout",
          "text": [
            "Collecting tslearn\n",
            "  Downloading tslearn-0.6.3-py3-none-any.whl (374 kB)\n",
            "\u001b[2K     \u001b[90m━━━━━━━━━━━━━━━━━━━━━━━━━━━━━━━━━━━━━━━━\u001b[0m \u001b[32m374.4/374.4 kB\u001b[0m \u001b[31m5.5 MB/s\u001b[0m eta \u001b[36m0:00:00\u001b[0m\n",
            "\u001b[?25hRequirement already satisfied: numpy in /usr/local/lib/python3.10/dist-packages (from tslearn) (1.25.2)\n",
            "Requirement already satisfied: scipy in /usr/local/lib/python3.10/dist-packages (from tslearn) (1.11.4)\n",
            "Requirement already satisfied: scikit-learn in /usr/local/lib/python3.10/dist-packages (from tslearn) (1.2.2)\n",
            "Requirement already satisfied: numba in /usr/local/lib/python3.10/dist-packages (from tslearn) (0.58.1)\n",
            "Requirement already satisfied: joblib in /usr/local/lib/python3.10/dist-packages (from tslearn) (1.3.2)\n",
            "Requirement already satisfied: llvmlite<0.42,>=0.41.0dev0 in /usr/local/lib/python3.10/dist-packages (from numba->tslearn) (0.41.1)\n",
            "Requirement already satisfied: threadpoolctl>=2.0.0 in /usr/local/lib/python3.10/dist-packages (from scikit-learn->tslearn) (3.3.0)\n",
            "Installing collected packages: tslearn\n",
            "Successfully installed tslearn-0.6.3\n"
          ]
        }
      ]
    },
    {
      "cell_type": "code",
      "source": [
        "import pandas as pd\n",
        "from sklearn.preprocessing import StandardScaler, LabelEncoder\n",
        "from sklearn.model_selection import train_test_split\n",
        "from tslearn.utils import to_time_series_dataset\n",
        "from tslearn.neighbors import KNeighborsTimeSeriesClassifier\n",
        "from sklearn.metrics import accuracy_score"
      ],
      "metadata": {
        "id": "4LrMN7VKtl1T"
      },
      "execution_count": null,
      "outputs": []
    },
    {
      "cell_type": "code",
      "source": [
        "csv_files = ['FlyX.csv', 'BackX.csv', 'BreastX.csv', 'FreeX.csv']\n",
        "\n",
        "data_frames= []\n",
        "# Load each file\n",
        "for file in csv_files:\n",
        "    df = pd.read_csv(file)\n",
        "    data_frames.append(df)\n",
        "\n",
        "# Concatenate all the data frames\n",
        "combined_df = pd.concat(data_frames, ignore_index=True)\n",
        "\n",
        "# applying scaler to normalize\n",
        "scaler = StandardScaler()\n",
        "features = ['x', 'y', 'z']\n",
        "\n",
        "combined_df[features] = scaler.fit_transform(combined_df[features])\n",
        "\n",
        "\n"
      ],
      "metadata": {
        "id": "z69YzInaHuGG"
      },
      "execution_count": null,
      "outputs": []
    },
    {
      "cell_type": "code",
      "source": [
        "from sklearn.preprocessing import LabelEncoder\n",
        "from tensorflow.keras.utils import to_categorical\n",
        "\n",
        "# Encoding labels\n",
        "encoder = LabelEncoder()\n",
        "combined_df['stroke'] = encoder.fit_transform(combined_df['stroke'])\n",
        "\n",
        "# Formatting for DTW\n",
        "time_series = to_time_series_dataset(combined_df[['x', 'y', 'z']].values.reshape(-1, 1, 3))\n",
        "labels = combined_df['stroke'].values"
      ],
      "metadata": {
        "id": "4lxDAIxftTwX"
      },
      "execution_count": null,
      "outputs": []
    },
    {
      "cell_type": "code",
      "source": [
        "#splitting up data\n",
        "X_train, X_test, y_train, y_test = train_test_split(time_series, labels, test_size=0.2, random_state=42)\n"
      ],
      "metadata": {
        "id": "asy_dTZitm-M"
      },
      "execution_count": null,
      "outputs": []
    },
    {
      "cell_type": "code",
      "source": [
        "# Train a k-NN classifier with DTW\n",
        "model_dtw = KNeighborsTimeSeriesClassifier(n_neighbors=1, metric=\"dtw\")\n",
        "model_dtw.fit(X_train, y_train)\n",
        "\n",
        "# Predict and evaluate accuracy\n",
        "y_pred = model_dtw.predict(X_test)\n",
        "accuracy = accuracy_score(y_test, y_pred)\n",
        "print(f\"DTW Classification Accuracy: {accuracy}\")\n"
      ],
      "metadata": {
        "colab": {
          "base_uri": "https://localhost:8080/"
        },
        "id": "ufzc06vAtqcQ",
        "outputId": "b5b2e547-c166-40a8-db65-2ddc1b9fedbe"
      },
      "execution_count": null,
      "outputs": [
        {
          "output_type": "stream",
          "name": "stdout",
          "text": [
            "DTW Classification Accuracy: 0.7844155844155845\n"
          ]
        }
      ]
    }
  ]
}