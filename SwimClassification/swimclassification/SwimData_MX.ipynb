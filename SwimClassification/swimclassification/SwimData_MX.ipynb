{
  "nbformat": 4,
  "nbformat_minor": 0,
  "metadata": {
    "colab": {
      "provenance": []
    },
    "kernelspec": {
      "name": "python3",
      "display_name": "Python 3"
    },
    "language_info": {
      "name": "python"
    }
  },
  "cells": [
    {
      "cell_type": "markdown",
      "source": [
        "# Contains magnetometer data and combined data"
      ],
      "metadata": {
        "id": "hxRLDF9GO9t0"
      }
    },
    {
      "cell_type": "code",
      "execution_count": 3,
      "metadata": {
        "id": "aitDipIKwxGZ"
      },
      "outputs": [],
      "source": [
        "import pandas as pd\n",
        "from sklearn.preprocessing import StandardScaler"
      ]
    },
    {
      "cell_type": "code",
      "source": [
        "data_frames= []"
      ],
      "metadata": {
        "id": "QoMRnYEYw2GP"
      },
      "execution_count": null,
      "outputs": []
    },
    {
      "cell_type": "markdown",
      "source": [
        "# USING Magnetometer data (mx,my,mz)"
      ],
      "metadata": {
        "id": "hOUsgDDRPi21"
      }
    },
    {
      "cell_type": "code",
      "source": [
        "from sklearn.utils import shuffle\n",
        "\n",
        "csv_files = ['FlyMX.csv', 'BackMX.csv', 'BreastMX.csv', 'FreeMX.csv']\n",
        "\n",
        "\n",
        "# Load each file\n",
        "for file in csv_files:\n",
        "    df = pd.read_csv(file)\n",
        "    data_frames.append(df)\n",
        "\n",
        "# Concatenate all the data frames\n",
        "combined_df = pd.concat(data_frames, ignore_index=True)\n",
        "\n",
        "# applying scaler to normalize\n",
        "scaler = StandardScaler()\n",
        "features = ['x', 'y', 'z']\n",
        "\n",
        "combined_df[features] = scaler.fit_transform(combined_df[features])\n",
        "\n",
        "\n",
        "combined_df = shuffle(combined_df, random_state=42)\n",
        "\n",
        "\n",
        "\n",
        "#double check\n",
        "print(combined_df.head(-1))"
      ],
      "metadata": {
        "colab": {
          "base_uri": "https://localhost:8080/"
        },
        "id": "gQVZpmp8w3wJ",
        "outputId": "46cbbf0e-df3b-4e88-d305-bb5d3bf5334e"
      },
      "execution_count": null,
      "outputs": [
        {
          "output_type": "stream",
          "name": "stdout",
          "text": [
            "      Time (seconds)         x         y         z  stroke\n",
            "6179          301.34 -0.952398 -1.436431  0.668102       4\n",
            "1832          162.16 -1.006306  0.500644 -1.520171       2\n",
            "6005          349.77 -0.467226 -0.437389  0.517492       3\n",
            "4048          265.07 -1.114122 -0.078953  0.477625       3\n",
            "3127          218.24  1.078137  1.461555 -0.713965       2\n",
            "...              ...       ...       ...       ...     ...\n",
            "5191          314.46  0.754689 -0.254358  0.451046       3\n",
            "5226          316.06  0.889459 -0.338247  0.451046       3\n",
            "5390          323.07  1.096106 -0.261984  0.176405       3\n",
            "860           192.80 -0.835597  0.432007  0.676961       1\n",
            "7603          362.99  1.221891 -2.557494 -0.098237       4\n",
            "\n",
            "[7697 rows x 5 columns]\n"
          ]
        }
      ]
    },
    {
      "cell_type": "markdown",
      "source": [
        "**Preprocessing**"
      ],
      "metadata": {
        "id": "uMej3kHjPLgG"
      }
    },
    {
      "cell_type": "code",
      "source": [
        "# Encoding labels\n",
        "\n",
        "from sklearn.preprocessing import LabelEncoder\n",
        "from tensorflow.keras.utils import to_categorical\n",
        "\n",
        "# Encoding labels\n",
        "encoder = LabelEncoder()\n",
        "combined_df['stroke'] = encoder.fit_transform(combined_df['stroke'])\n",
        "labels = to_categorical(combined_df['stroke'].values)\n",
        "\n"
      ],
      "metadata": {
        "id": "o6g-i5SVxKy1"
      },
      "execution_count": null,
      "outputs": []
    },
    {
      "cell_type": "code",
      "source": [
        "import numpy as np\n",
        "\n",
        "sequence_length = 50  # assuming a cycle of a stroke is 2 seconds\n",
        "\n",
        "def create_sequences(data, labels, sequence_length):\n",
        "    X, y = [], []\n",
        "    for i in range(len(data) - sequence_length + 1):\n",
        "        X.append(data[i:(i + sequence_length)])\n",
        "        y.append(labels[i + sequence_length - 1])\n",
        "    return np.array(X), np.array(y)\n",
        "\n",
        "data = combined_df[features].values\n",
        "X, y = create_sequences(data, labels, sequence_length)\n"
      ],
      "metadata": {
        "id": "doNN6oNoxLMl"
      },
      "execution_count": null,
      "outputs": []
    },
    {
      "cell_type": "code",
      "source": [
        "from sklearn.model_selection import train_test_split\n",
        "\n",
        "X_train, X_test, y_train, y_test = train_test_split(X, y, test_size=0.2, random_state=42)\n"
      ],
      "metadata": {
        "id": "zyZipTRuxNlJ"
      },
      "execution_count": null,
      "outputs": []
    },
    {
      "cell_type": "markdown",
      "source": [
        "**Running LSTM**"
      ],
      "metadata": {
        "id": "u9OYaa-bPUhn"
      }
    },
    {
      "cell_type": "code",
      "source": [
        "from tensorflow.keras.models import Sequential\n",
        "from tensorflow.keras.layers import LSTM, Dense\n",
        "\n",
        "model_lstm = Sequential()\n",
        "model_lstm.add(LSTM(units=50, return_sequences=True, input_shape=(X_train.shape[1], X_train.shape[2])))\n",
        "model_lstm.add(LSTM(units=50))\n",
        "model_lstm.add(Dense(units=y_train.shape[1], activation='softmax'))\n",
        "\n",
        "model_lstm.compile(loss='categorical_crossentropy', optimizer='adam', metrics=['accuracy'])\n",
        "model_lstm.fit(X_train, y_train, epochs=10, batch_size=32, validation_split=0.1)\n",
        "\n",
        "test_loss, test_accuracy = model_lstm.evaluate(X_test, y_test)\n",
        "\n",
        "print(f\"Test Loss: {test_loss}\")\n",
        "print(f\"Test Accuracy: {test_accuracy}\")\n",
        "\n"
      ],
      "metadata": {
        "colab": {
          "base_uri": "https://localhost:8080/"
        },
        "id": "NYnvi5tMxO9H",
        "outputId": "e54b18e0-4db0-4110-f80b-257b1dc8e044"
      },
      "execution_count": null,
      "outputs": [
        {
          "output_type": "stream",
          "name": "stdout",
          "text": [
            "Epoch 1/10\n",
            "173/173 [==============================] - 15s 64ms/step - loss: 1.1986 - accuracy: 0.4387 - val_loss: 0.8558 - val_accuracy: 0.5654\n",
            "Epoch 2/10\n",
            "173/173 [==============================] - 10s 57ms/step - loss: 0.8292 - accuracy: 0.6588 - val_loss: 0.7430 - val_accuracy: 0.7271\n",
            "Epoch 3/10\n",
            "173/173 [==============================] - 11s 65ms/step - loss: 0.7117 - accuracy: 0.7086 - val_loss: 0.6590 - val_accuracy: 0.7108\n",
            "Epoch 4/10\n",
            "173/173 [==============================] - 9s 51ms/step - loss: 0.6155 - accuracy: 0.7440 - val_loss: 0.5560 - val_accuracy: 0.7892\n",
            "Epoch 5/10\n",
            "173/173 [==============================] - 9s 50ms/step - loss: 0.5416 - accuracy: 0.7707 - val_loss: 0.5229 - val_accuracy: 0.7582\n",
            "Epoch 6/10\n",
            "173/173 [==============================] - 9s 54ms/step - loss: 0.4996 - accuracy: 0.7823 - val_loss: 0.4791 - val_accuracy: 0.7908\n",
            "Epoch 7/10\n",
            "173/173 [==============================] - 9s 55ms/step - loss: 0.4726 - accuracy: 0.7934 - val_loss: 0.4682 - val_accuracy: 0.8007\n",
            "Epoch 8/10\n",
            "173/173 [==============================] - 8s 46ms/step - loss: 0.4516 - accuracy: 0.8042 - val_loss: 0.4517 - val_accuracy: 0.7958\n",
            "Epoch 9/10\n",
            "173/173 [==============================] - 9s 53ms/step - loss: 0.4367 - accuracy: 0.8159 - val_loss: 0.4407 - val_accuracy: 0.8203\n",
            "Epoch 10/10\n",
            "173/173 [==============================] - 10s 57ms/step - loss: 0.4243 - accuracy: 0.8202 - val_loss: 0.4272 - val_accuracy: 0.8382\n",
            "48/48 [==============================] - 1s 15ms/step - loss: 0.4674 - accuracy: 0.8013\n",
            "Test Loss: 0.46743929386138916\n",
            "Test Accuracy: 0.801307201385498\n"
          ]
        }
      ]
    },
    {
      "cell_type": "code",
      "source": [
        "from sklearn.metrics import classification_report\n",
        "import numpy as np\n",
        "\n",
        "# Generate predictions for the test set\n",
        "y_pred = model_lstm.predict(X_test)\n",
        "y_pred_classes = np.argmax(y_pred, axis=1)\n",
        "y_test_classes = np.argmax(y_test, axis=1)\n",
        "\n",
        "# Calculate precision, recall, and F1-score\n",
        "report = classification_report(y_test_classes, y_pred_classes)\n",
        "print(report)\n"
      ],
      "metadata": {
        "colab": {
          "base_uri": "https://localhost:8080/"
        },
        "id": "sOQ-qXKlxS5M",
        "outputId": "514b7fe2-9960-4d61-e3be-ea5c07fd6495"
      },
      "execution_count": null,
      "outputs": [
        {
          "output_type": "stream",
          "name": "stdout",
          "text": [
            "48/48 [==============================] - 1s 14ms/step\n",
            "              precision    recall  f1-score   support\n",
            "\n",
            "           0       0.68      0.51      0.58       340\n",
            "           1       0.96      0.88      0.92       430\n",
            "           2       0.68      0.84      0.75       466\n",
            "           3       0.95      0.95      0.95       294\n",
            "\n",
            "    accuracy                           0.80      1530\n",
            "   macro avg       0.81      0.80      0.80      1530\n",
            "weighted avg       0.81      0.80      0.80      1530\n",
            "\n"
          ]
        }
      ]
    },
    {
      "cell_type": "markdown",
      "source": [
        "Increasing the number of units and more layers adding in dropout\n"
      ],
      "metadata": {
        "id": "aD71NkAOyrsz"
      }
    },
    {
      "cell_type": "code",
      "source": [
        "from tensorflow.keras.models import Sequential\n",
        "from tensorflow.keras.layers import LSTM, Dense, Dropout, Bidirectional\n",
        "\n",
        "model_lstm = Sequential()\n",
        "\n",
        "# Input layer with Bidirectional LSTM\n",
        "model_lstm.add(Bidirectional(LSTM(units=100, return_sequences=True), input_shape=(X_train.shape[1], X_train.shape[2])))\n",
        "\n",
        "# Additional Bidirectional LSTM layer with return sequences set to True for stacking\n",
        "model_lstm.add(Bidirectional(LSTM(units=100, return_sequences=True)))\n",
        "model_lstm.add(Dropout(0.2))  # Dropout for regularization\n",
        "\n",
        "# Another Bidirectional LSTM Layer, still returning sequences to allow stacking\n",
        "model_lstm.add(Bidirectional(LSTM(units=100, return_sequences=True)))\n",
        "model_lstm.add(Dropout(0.2))  # Additional Dropout layer\n",
        "\n",
        "# Final Bidirectional LSTM Layer, no return_sequences as we're moving to the Dense layer\n",
        "model_lstm.add(Bidirectional(LSTM(units=100)))\n",
        "model_lstm.add(Dropout(0.2))  # Final Dropout layer before the Dense layer\n",
        "\n",
        "# Output layer\n",
        "model_lstm.add(Dense(units=y_train.shape[1], activation='softmax'))\n",
        "\n",
        "model_lstm.compile(loss='categorical_crossentropy', optimizer='adam', metrics=['accuracy'])\n",
        "\n",
        "# Train the model\n",
        "model_lstm.fit(X_train, y_train, epochs=10, batch_size=32, validation_split=0.1)\n",
        "\n",
        "# Evaluate the model on the test set\n",
        "test_loss, test_accuracy = model_lstm.evaluate(X_test, y_test)\n",
        "\n",
        "print(f\"Test Loss: {test_loss}\")\n",
        "print(f\"Test Accuracy: {test_accuracy}\")\n"
      ],
      "metadata": {
        "colab": {
          "base_uri": "https://localhost:8080/"
        },
        "id": "Hfzkwry0yvQi",
        "outputId": "a4a38d66-1847-4911-9533-691c13e5efe5"
      },
      "execution_count": null,
      "outputs": [
        {
          "output_type": "stream",
          "name": "stdout",
          "text": [
            "Epoch 1/10\n",
            "173/173 [==============================] - 107s 527ms/step - loss: 1.0533 - accuracy: 0.5043 - val_loss: 0.8562 - val_accuracy: 0.6748\n",
            "Epoch 2/10\n",
            "173/173 [==============================] - 87s 501ms/step - loss: 0.8428 - accuracy: 0.6317 - val_loss: 0.6473 - val_accuracy: 0.7239\n",
            "Epoch 3/10\n",
            "173/173 [==============================] - 88s 506ms/step - loss: 0.6098 - accuracy: 0.7316 - val_loss: 0.5259 - val_accuracy: 0.7663\n",
            "Epoch 4/10\n",
            "173/173 [==============================] - 87s 503ms/step - loss: 0.5519 - accuracy: 0.7599 - val_loss: 0.5232 - val_accuracy: 0.7810\n",
            "Epoch 5/10\n",
            "173/173 [==============================] - 87s 502ms/step - loss: 0.5191 - accuracy: 0.7786 - val_loss: 0.5460 - val_accuracy: 0.7565\n",
            "Epoch 6/10\n",
            "173/173 [==============================] - 87s 499ms/step - loss: 0.5125 - accuracy: 0.7756 - val_loss: 0.4638 - val_accuracy: 0.7892\n",
            "Epoch 7/10\n",
            "173/173 [==============================] - 88s 507ms/step - loss: 0.4825 - accuracy: 0.7944 - val_loss: 0.4895 - val_accuracy: 0.7859\n",
            "Epoch 8/10\n",
            "173/173 [==============================] - 86s 499ms/step - loss: 0.4729 - accuracy: 0.7995 - val_loss: 0.4354 - val_accuracy: 0.8121\n",
            "Epoch 9/10\n",
            "173/173 [==============================] - 89s 517ms/step - loss: 0.4578 - accuracy: 0.8046 - val_loss: 0.4229 - val_accuracy: 0.8186\n",
            "Epoch 10/10\n",
            "173/173 [==============================] - 89s 513ms/step - loss: 0.4403 - accuracy: 0.8175 - val_loss: 0.3970 - val_accuracy: 0.8480\n",
            "48/48 [==============================] - 8s 162ms/step - loss: 0.4366 - accuracy: 0.8333\n",
            "Test Loss: 0.4366164207458496\n",
            "Test Accuracy: 0.8333333134651184\n"
          ]
        }
      ]
    },
    {
      "cell_type": "code",
      "source": [
        "from sklearn.metrics import classification_report\n",
        "import numpy as np\n",
        "\n",
        "# Generate predictions for the test set\n",
        "y_pred = model_lstm.predict(X_test)\n",
        "y_pred_classes = np.argmax(y_pred, axis=1)\n",
        "y_test_classes = np.argmax(y_test, axis=1)\n",
        "\n",
        "# Calculate precision, recall, and F1-score\n",
        "report = classification_report(y_test_classes, y_pred_classes)\n",
        "print(report)\n"
      ],
      "metadata": {
        "colab": {
          "base_uri": "https://localhost:8080/"
        },
        "id": "8JbSZC3S1yp-",
        "outputId": "fd711a1c-c2d6-4281-9c19-e61566306938"
      },
      "execution_count": null,
      "outputs": [
        {
          "output_type": "stream",
          "name": "stdout",
          "text": [
            "48/48 [==============================] - 11s 161ms/step\n",
            "              precision    recall  f1-score   support\n",
            "\n",
            "           0       0.76      0.61      0.68       340\n",
            "           1       0.95      0.89      0.92       430\n",
            "           2       0.73      0.87      0.79       466\n",
            "           3       0.95      0.95      0.95       294\n",
            "\n",
            "    accuracy                           0.83      1530\n",
            "   macro avg       0.85      0.83      0.83      1530\n",
            "weighted avg       0.84      0.83      0.83      1530\n",
            "\n"
          ]
        }
      ]
    },
    {
      "cell_type": "markdown",
      "source": [
        "DTW- 3 features (mx,my,mz)"
      ],
      "metadata": {
        "id": "sZvqVHWmUTdj"
      }
    },
    {
      "cell_type": "code",
      "source": [
        "!pip3 install tslearn"
      ],
      "metadata": {
        "colab": {
          "base_uri": "https://localhost:8080/"
        },
        "id": "d1MPskvbU8rm",
        "outputId": "005fbc1e-f4e2-4844-867d-925d48447d83"
      },
      "execution_count": 7,
      "outputs": [
        {
          "output_type": "stream",
          "name": "stdout",
          "text": [
            "Collecting tslearn\n",
            "  Downloading tslearn-0.6.3-py3-none-any.whl (374 kB)\n",
            "\u001b[?25l     \u001b[90m━━━━━━━━━━━━━━━━━━━━━━━━━━━━━━━━━━━━━━━━\u001b[0m \u001b[32m0.0/374.4 kB\u001b[0m \u001b[31m?\u001b[0m eta \u001b[36m-:--:--\u001b[0m\r\u001b[2K     \u001b[91m━━━━━━━━━━━━\u001b[0m\u001b[90m╺\u001b[0m\u001b[90m━━━━━━━━━━━━━━━━━━━━━━━━━━━\u001b[0m \u001b[32m112.6/374.4 kB\u001b[0m \u001b[31m3.1 MB/s\u001b[0m eta \u001b[36m0:00:01\u001b[0m\r\u001b[2K     \u001b[90m━━━━━━━━━━━━━━━━━━━━━━━━━━━━━━━━━━━━━━━━\u001b[0m \u001b[32m374.4/374.4 kB\u001b[0m \u001b[31m5.8 MB/s\u001b[0m eta \u001b[36m0:00:00\u001b[0m\n",
            "\u001b[?25hRequirement already satisfied: numpy in /usr/local/lib/python3.10/dist-packages (from tslearn) (1.25.2)\n",
            "Requirement already satisfied: scipy in /usr/local/lib/python3.10/dist-packages (from tslearn) (1.11.4)\n",
            "Requirement already satisfied: scikit-learn in /usr/local/lib/python3.10/dist-packages (from tslearn) (1.2.2)\n",
            "Requirement already satisfied: numba in /usr/local/lib/python3.10/dist-packages (from tslearn) (0.58.1)\n",
            "Requirement already satisfied: joblib in /usr/local/lib/python3.10/dist-packages (from tslearn) (1.3.2)\n",
            "Requirement already satisfied: llvmlite<0.42,>=0.41.0dev0 in /usr/local/lib/python3.10/dist-packages (from numba->tslearn) (0.41.1)\n",
            "Requirement already satisfied: threadpoolctl>=2.0.0 in /usr/local/lib/python3.10/dist-packages (from scikit-learn->tslearn) (3.3.0)\n",
            "Installing collected packages: tslearn\n",
            "Successfully installed tslearn-0.6.3\n"
          ]
        }
      ]
    },
    {
      "cell_type": "code",
      "source": [
        "import pandas as pd\n",
        "from sklearn.preprocessing import StandardScaler, LabelEncoder\n",
        "from sklearn.model_selection import train_test_split\n",
        "from tslearn.utils import to_time_series_dataset\n",
        "from tslearn.neighbors import KNeighborsTimeSeriesClassifier\n",
        "from sklearn.metrics import accuracy_score"
      ],
      "metadata": {
        "id": "M93FXSV4U5rx"
      },
      "execution_count": 8,
      "outputs": []
    },
    {
      "cell_type": "code",
      "source": [
        "import pandas as pd\n",
        "csv_files = ['FlyMX.csv', 'BackMX.csv', 'BreastMX.csv', 'FreeMX.csv']\n",
        "\n",
        "data_frames= []\n",
        "# Load each file\n",
        "for file in csv_files:\n",
        "    df = pd.read_csv(file)\n",
        "    data_frames.append(df)\n",
        "\n",
        "# Concatenate all the data frames\n",
        "combined_df = pd.concat(data_frames, ignore_index=True)\n",
        "\n",
        "# applying scaler to normalize\n",
        "scaler = StandardScaler()\n",
        "features = ['x', 'y', 'z']\n",
        "\n",
        "combined_df[features] = scaler.fit_transform(combined_df[features])"
      ],
      "metadata": {
        "id": "UKXYGlnOUVUR"
      },
      "execution_count": 9,
      "outputs": []
    },
    {
      "cell_type": "code",
      "source": [
        "from sklearn.preprocessing import LabelEncoder\n",
        "from tensorflow.keras.utils import to_categorical\n",
        "\n",
        "# Encoding labels\n",
        "encoder = LabelEncoder()\n",
        "combined_df['stroke'] = encoder.fit_transform(combined_df['stroke'])\n",
        "\n",
        "# Formatting for DTW\n",
        "time_series = to_time_series_dataset(combined_df[['x', 'y', 'z']].values.reshape(-1, 1, 3))\n",
        "labels = combined_df['stroke'].values"
      ],
      "metadata": {
        "id": "An6RZJnaUYJ2"
      },
      "execution_count": 10,
      "outputs": []
    },
    {
      "cell_type": "code",
      "source": [
        "X_train, X_test, y_train, y_test = train_test_split(time_series, labels, test_size=0.2, random_state=42)\n"
      ],
      "metadata": {
        "id": "KgcxDfWlUbbp"
      },
      "execution_count": 11,
      "outputs": []
    },
    {
      "cell_type": "code",
      "source": [
        "# Train a k-NN classifier with DTW\n",
        "model_dtw = KNeighborsTimeSeriesClassifier(n_neighbors=1, metric=\"dtw\")\n",
        "model_dtw.fit(X_train, y_train)\n",
        "\n",
        "# Predict and evaluate accuracy\n",
        "y_pred = model_dtw.predict(X_test)\n",
        "accuracy = accuracy_score(y_test, y_pred)\n",
        "print(f\"DTW Classification Accuracy: {accuracy}\")\n"
      ],
      "metadata": {
        "colab": {
          "base_uri": "https://localhost:8080/"
        },
        "id": "8STpEQQ7UdM1",
        "outputId": "2e1b15a4-10a2-42a0-a705-ef2fc0accce4"
      },
      "execution_count": 12,
      "outputs": [
        {
          "output_type": "stream",
          "name": "stdout",
          "text": [
            "DTW Classification Accuracy: 0.9266233766233766\n"
          ]
        }
      ]
    },
    {
      "cell_type": "markdown",
      "source": [
        "# Using both accelerometer data and Magnetometer data"
      ],
      "metadata": {
        "id": "ZYlvVv1y8cT8"
      }
    },
    {
      "cell_type": "code",
      "source": [
        "import pandas as pd\n",
        "\n",
        "# Load your dataset\n",
        "df = pd.read_csv('combined.csv')\n",
        "\n",
        "df.head"
      ],
      "metadata": {
        "colab": {
          "base_uri": "https://localhost:8080/",
          "height": 206
        },
        "id": "Fk349WY38d2F",
        "outputId": "0c5f9419-0f94-45b0-d1ad-86cf3f077a95"
      },
      "execution_count": null,
      "outputs": [
        {
          "output_type": "execute_result",
          "data": {
            "text/plain": [
              "   Time (seconds)     x    y    z     mx     my     mz  stroke\n",
              "0          155.70 -1264  -16 -200  55.05 -69.00 -95.70       1\n",
              "1          155.74 -1244    4 -172  55.80 -67.95 -94.80       1\n",
              "2          155.78 -1240  -76 -200  54.00 -67.50 -93.15       1\n",
              "3          155.81 -1304  -36 -160  54.60 -67.50 -91.65       1\n",
              "4          155.88 -1176  148 -292  51.75 -67.95 -89.10       1"
            ],
            "text/html": [
              "\n",
              "  <div id=\"df-7e2fcd72-8333-4b11-af45-b34b3d2abfb2\" class=\"colab-df-container\">\n",
              "    <div>\n",
              "<style scoped>\n",
              "    .dataframe tbody tr th:only-of-type {\n",
              "        vertical-align: middle;\n",
              "    }\n",
              "\n",
              "    .dataframe tbody tr th {\n",
              "        vertical-align: top;\n",
              "    }\n",
              "\n",
              "    .dataframe thead th {\n",
              "        text-align: right;\n",
              "    }\n",
              "</style>\n",
              "<table border=\"1\" class=\"dataframe\">\n",
              "  <thead>\n",
              "    <tr style=\"text-align: right;\">\n",
              "      <th></th>\n",
              "      <th>Time (seconds)</th>\n",
              "      <th>x</th>\n",
              "      <th>y</th>\n",
              "      <th>z</th>\n",
              "      <th>mx</th>\n",
              "      <th>my</th>\n",
              "      <th>mz</th>\n",
              "      <th>stroke</th>\n",
              "    </tr>\n",
              "  </thead>\n",
              "  <tbody>\n",
              "    <tr>\n",
              "      <th>0</th>\n",
              "      <td>155.70</td>\n",
              "      <td>-1264</td>\n",
              "      <td>-16</td>\n",
              "      <td>-200</td>\n",
              "      <td>55.05</td>\n",
              "      <td>-69.00</td>\n",
              "      <td>-95.70</td>\n",
              "      <td>1</td>\n",
              "    </tr>\n",
              "    <tr>\n",
              "      <th>1</th>\n",
              "      <td>155.74</td>\n",
              "      <td>-1244</td>\n",
              "      <td>4</td>\n",
              "      <td>-172</td>\n",
              "      <td>55.80</td>\n",
              "      <td>-67.95</td>\n",
              "      <td>-94.80</td>\n",
              "      <td>1</td>\n",
              "    </tr>\n",
              "    <tr>\n",
              "      <th>2</th>\n",
              "      <td>155.78</td>\n",
              "      <td>-1240</td>\n",
              "      <td>-76</td>\n",
              "      <td>-200</td>\n",
              "      <td>54.00</td>\n",
              "      <td>-67.50</td>\n",
              "      <td>-93.15</td>\n",
              "      <td>1</td>\n",
              "    </tr>\n",
              "    <tr>\n",
              "      <th>3</th>\n",
              "      <td>155.81</td>\n",
              "      <td>-1304</td>\n",
              "      <td>-36</td>\n",
              "      <td>-160</td>\n",
              "      <td>54.60</td>\n",
              "      <td>-67.50</td>\n",
              "      <td>-91.65</td>\n",
              "      <td>1</td>\n",
              "    </tr>\n",
              "    <tr>\n",
              "      <th>4</th>\n",
              "      <td>155.88</td>\n",
              "      <td>-1176</td>\n",
              "      <td>148</td>\n",
              "      <td>-292</td>\n",
              "      <td>51.75</td>\n",
              "      <td>-67.95</td>\n",
              "      <td>-89.10</td>\n",
              "      <td>1</td>\n",
              "    </tr>\n",
              "  </tbody>\n",
              "</table>\n",
              "</div>\n",
              "    <div class=\"colab-df-buttons\">\n",
              "\n",
              "  <div class=\"colab-df-container\">\n",
              "    <button class=\"colab-df-convert\" onclick=\"convertToInteractive('df-7e2fcd72-8333-4b11-af45-b34b3d2abfb2')\"\n",
              "            title=\"Convert this dataframe to an interactive table.\"\n",
              "            style=\"display:none;\">\n",
              "\n",
              "  <svg xmlns=\"http://www.w3.org/2000/svg\" height=\"24px\" viewBox=\"0 -960 960 960\">\n",
              "    <path d=\"M120-120v-720h720v720H120Zm60-500h600v-160H180v160Zm220 220h160v-160H400v160Zm0 220h160v-160H400v160ZM180-400h160v-160H180v160Zm440 0h160v-160H620v160ZM180-180h160v-160H180v160Zm440 0h160v-160H620v160Z\"/>\n",
              "  </svg>\n",
              "    </button>\n",
              "\n",
              "  <style>\n",
              "    .colab-df-container {\n",
              "      display:flex;\n",
              "      gap: 12px;\n",
              "    }\n",
              "\n",
              "    .colab-df-convert {\n",
              "      background-color: #E8F0FE;\n",
              "      border: none;\n",
              "      border-radius: 50%;\n",
              "      cursor: pointer;\n",
              "      display: none;\n",
              "      fill: #1967D2;\n",
              "      height: 32px;\n",
              "      padding: 0 0 0 0;\n",
              "      width: 32px;\n",
              "    }\n",
              "\n",
              "    .colab-df-convert:hover {\n",
              "      background-color: #E2EBFA;\n",
              "      box-shadow: 0px 1px 2px rgba(60, 64, 67, 0.3), 0px 1px 3px 1px rgba(60, 64, 67, 0.15);\n",
              "      fill: #174EA6;\n",
              "    }\n",
              "\n",
              "    .colab-df-buttons div {\n",
              "      margin-bottom: 4px;\n",
              "    }\n",
              "\n",
              "    [theme=dark] .colab-df-convert {\n",
              "      background-color: #3B4455;\n",
              "      fill: #D2E3FC;\n",
              "    }\n",
              "\n",
              "    [theme=dark] .colab-df-convert:hover {\n",
              "      background-color: #434B5C;\n",
              "      box-shadow: 0px 1px 3px 1px rgba(0, 0, 0, 0.15);\n",
              "      filter: drop-shadow(0px 1px 2px rgba(0, 0, 0, 0.3));\n",
              "      fill: #FFFFFF;\n",
              "    }\n",
              "  </style>\n",
              "\n",
              "    <script>\n",
              "      const buttonEl =\n",
              "        document.querySelector('#df-7e2fcd72-8333-4b11-af45-b34b3d2abfb2 button.colab-df-convert');\n",
              "      buttonEl.style.display =\n",
              "        google.colab.kernel.accessAllowed ? 'block' : 'none';\n",
              "\n",
              "      async function convertToInteractive(key) {\n",
              "        const element = document.querySelector('#df-7e2fcd72-8333-4b11-af45-b34b3d2abfb2');\n",
              "        const dataTable =\n",
              "          await google.colab.kernel.invokeFunction('convertToInteractive',\n",
              "                                                    [key], {});\n",
              "        if (!dataTable) return;\n",
              "\n",
              "        const docLinkHtml = 'Like what you see? Visit the ' +\n",
              "          '<a target=\"_blank\" href=https://colab.research.google.com/notebooks/data_table.ipynb>data table notebook</a>'\n",
              "          + ' to learn more about interactive tables.';\n",
              "        element.innerHTML = '';\n",
              "        dataTable['output_type'] = 'display_data';\n",
              "        await google.colab.output.renderOutput(dataTable, element);\n",
              "        const docLink = document.createElement('div');\n",
              "        docLink.innerHTML = docLinkHtml;\n",
              "        element.appendChild(docLink);\n",
              "      }\n",
              "    </script>\n",
              "  </div>\n",
              "\n",
              "\n",
              "<div id=\"df-a4e36883-ab7c-40d6-9520-cbd79d962acc\">\n",
              "  <button class=\"colab-df-quickchart\" onclick=\"quickchart('df-a4e36883-ab7c-40d6-9520-cbd79d962acc')\"\n",
              "            title=\"Suggest charts\"\n",
              "            style=\"display:none;\">\n",
              "\n",
              "<svg xmlns=\"http://www.w3.org/2000/svg\" height=\"24px\"viewBox=\"0 0 24 24\"\n",
              "     width=\"24px\">\n",
              "    <g>\n",
              "        <path d=\"M19 3H5c-1.1 0-2 .9-2 2v14c0 1.1.9 2 2 2h14c1.1 0 2-.9 2-2V5c0-1.1-.9-2-2-2zM9 17H7v-7h2v7zm4 0h-2V7h2v10zm4 0h-2v-4h2v4z\"/>\n",
              "    </g>\n",
              "</svg>\n",
              "  </button>\n",
              "\n",
              "<style>\n",
              "  .colab-df-quickchart {\n",
              "      --bg-color: #E8F0FE;\n",
              "      --fill-color: #1967D2;\n",
              "      --hover-bg-color: #E2EBFA;\n",
              "      --hover-fill-color: #174EA6;\n",
              "      --disabled-fill-color: #AAA;\n",
              "      --disabled-bg-color: #DDD;\n",
              "  }\n",
              "\n",
              "  [theme=dark] .colab-df-quickchart {\n",
              "      --bg-color: #3B4455;\n",
              "      --fill-color: #D2E3FC;\n",
              "      --hover-bg-color: #434B5C;\n",
              "      --hover-fill-color: #FFFFFF;\n",
              "      --disabled-bg-color: #3B4455;\n",
              "      --disabled-fill-color: #666;\n",
              "  }\n",
              "\n",
              "  .colab-df-quickchart {\n",
              "    background-color: var(--bg-color);\n",
              "    border: none;\n",
              "    border-radius: 50%;\n",
              "    cursor: pointer;\n",
              "    display: none;\n",
              "    fill: var(--fill-color);\n",
              "    height: 32px;\n",
              "    padding: 0;\n",
              "    width: 32px;\n",
              "  }\n",
              "\n",
              "  .colab-df-quickchart:hover {\n",
              "    background-color: var(--hover-bg-color);\n",
              "    box-shadow: 0 1px 2px rgba(60, 64, 67, 0.3), 0 1px 3px 1px rgba(60, 64, 67, 0.15);\n",
              "    fill: var(--button-hover-fill-color);\n",
              "  }\n",
              "\n",
              "  .colab-df-quickchart-complete:disabled,\n",
              "  .colab-df-quickchart-complete:disabled:hover {\n",
              "    background-color: var(--disabled-bg-color);\n",
              "    fill: var(--disabled-fill-color);\n",
              "    box-shadow: none;\n",
              "  }\n",
              "\n",
              "  .colab-df-spinner {\n",
              "    border: 2px solid var(--fill-color);\n",
              "    border-color: transparent;\n",
              "    border-bottom-color: var(--fill-color);\n",
              "    animation:\n",
              "      spin 1s steps(1) infinite;\n",
              "  }\n",
              "\n",
              "  @keyframes spin {\n",
              "    0% {\n",
              "      border-color: transparent;\n",
              "      border-bottom-color: var(--fill-color);\n",
              "      border-left-color: var(--fill-color);\n",
              "    }\n",
              "    20% {\n",
              "      border-color: transparent;\n",
              "      border-left-color: var(--fill-color);\n",
              "      border-top-color: var(--fill-color);\n",
              "    }\n",
              "    30% {\n",
              "      border-color: transparent;\n",
              "      border-left-color: var(--fill-color);\n",
              "      border-top-color: var(--fill-color);\n",
              "      border-right-color: var(--fill-color);\n",
              "    }\n",
              "    40% {\n",
              "      border-color: transparent;\n",
              "      border-right-color: var(--fill-color);\n",
              "      border-top-color: var(--fill-color);\n",
              "    }\n",
              "    60% {\n",
              "      border-color: transparent;\n",
              "      border-right-color: var(--fill-color);\n",
              "    }\n",
              "    80% {\n",
              "      border-color: transparent;\n",
              "      border-right-color: var(--fill-color);\n",
              "      border-bottom-color: var(--fill-color);\n",
              "    }\n",
              "    90% {\n",
              "      border-color: transparent;\n",
              "      border-bottom-color: var(--fill-color);\n",
              "    }\n",
              "  }\n",
              "</style>\n",
              "\n",
              "  <script>\n",
              "    async function quickchart(key) {\n",
              "      const quickchartButtonEl =\n",
              "        document.querySelector('#' + key + ' button');\n",
              "      quickchartButtonEl.disabled = true;  // To prevent multiple clicks.\n",
              "      quickchartButtonEl.classList.add('colab-df-spinner');\n",
              "      try {\n",
              "        const charts = await google.colab.kernel.invokeFunction(\n",
              "            'suggestCharts', [key], {});\n",
              "      } catch (error) {\n",
              "        console.error('Error during call to suggestCharts:', error);\n",
              "      }\n",
              "      quickchartButtonEl.classList.remove('colab-df-spinner');\n",
              "      quickchartButtonEl.classList.add('colab-df-quickchart-complete');\n",
              "    }\n",
              "    (() => {\n",
              "      let quickchartButtonEl =\n",
              "        document.querySelector('#df-a4e36883-ab7c-40d6-9520-cbd79d962acc button');\n",
              "      quickchartButtonEl.style.display =\n",
              "        google.colab.kernel.accessAllowed ? 'block' : 'none';\n",
              "    })();\n",
              "  </script>\n",
              "</div>\n",
              "    </div>\n",
              "  </div>\n"
            ],
            "application/vnd.google.colaboratory.intrinsic+json": {
              "type": "dataframe",
              "variable_name": "df",
              "summary": "{\n  \"name\": \"df\",\n  \"rows\": 7698,\n  \"fields\": [\n    {\n      \"column\": \"Time (seconds)\",\n      \"properties\": {\n        \"dtype\": \"number\",\n        \"std\": 66.07024363028899,\n        \"min\": 152.03,\n        \"max\": 367.08,\n        \"num_unique_values\": 6954,\n        \"samples\": [\n          349.66,\n          349.77,\n          179.95\n        ],\n        \"semantic_type\": \"\",\n        \"description\": \"\"\n      }\n    },\n    {\n      \"column\": \"x\",\n      \"properties\": {\n        \"dtype\": \"number\",\n        \"std\": 333,\n        \"min\": -2004,\n        \"max\": 1212,\n        \"num_unique_values\": 551,\n        \"samples\": [\n          748,\n          -80,\n          -320\n        ],\n        \"semantic_type\": \"\",\n        \"description\": \"\"\n      }\n    },\n    {\n      \"column\": \"y\",\n      \"properties\": {\n        \"dtype\": \"number\",\n        \"std\": 449,\n        \"min\": -1500,\n        \"max\": 1356,\n        \"num_unique_values\": 631,\n        \"samples\": [\n          -1236,\n          464,\n          -216\n        ],\n        \"semantic_type\": \"\",\n        \"description\": \"\"\n      }\n    },\n    {\n      \"column\": \"z\",\n      \"properties\": {\n        \"dtype\": \"number\",\n        \"std\": 794,\n        \"min\": -1752,\n        \"max\": 1276,\n        \"num_unique_values\": 680,\n        \"samples\": [\n          316,\n          592,\n          -1108\n        ],\n        \"semantic_type\": \"\",\n        \"description\": \"\"\n      }\n    },\n    {\n      \"column\": \"mx\",\n      \"properties\": {\n        \"dtype\": \"number\",\n        \"std\": 16.696194634397923,\n        \"min\": -10.8,\n        \"max\": 64.5,\n        \"num_unique_values\": 482,\n        \"samples\": [\n          -3.75,\n          -1.05,\n          40.2\n        ],\n        \"semantic_type\": \"\",\n        \"description\": \"\"\n      }\n    },\n    {\n      \"column\": \"my\",\n      \"properties\": {\n        \"dtype\": \"number\",\n        \"std\": 19.67010744996515,\n        \"min\": -118.65,\n        \"max\": -7.5,\n        \"num_unique_values\": 703,\n        \"samples\": [\n          -76.65,\n          -48.9,\n          -61.05\n        ],\n        \"semantic_type\": \"\",\n        \"description\": \"\"\n      }\n    },\n    {\n      \"column\": \"mz\",\n      \"properties\": {\n        \"dtype\": \"number\",\n        \"std\": 33.864529565159195,\n        \"min\": -181.2,\n        \"max\": -49.65,\n        \"num_unique_values\": 843,\n        \"samples\": [\n          -143.55,\n          -94.95,\n          -114.75\n        ],\n        \"semantic_type\": \"\",\n        \"description\": \"\"\n      }\n    },\n    {\n      \"column\": \"stroke\",\n      \"properties\": {\n        \"dtype\": \"number\",\n        \"std\": 1,\n        \"min\": 1,\n        \"max\": 4,\n        \"num_unique_values\": 4,\n        \"samples\": [\n          2,\n          4,\n          1\n        ],\n        \"semantic_type\": \"\",\n        \"description\": \"\"\n      }\n    }\n  ]\n}"
            }
          },
          "metadata": {},
          "execution_count": 1
        }
      ]
    },
    {
      "cell_type": "code",
      "source": [
        "from sklearn.preprocessing import StandardScaler\n",
        "\n",
        "scaler = StandardScaler()\n",
        "features = ['x', 'y', 'z', 'mx', 'my', 'mz']  # Features to scale\n",
        "df[features] = scaler.fit_transform(df[features])\n"
      ],
      "metadata": {
        "id": "0mhfrdkp9MCJ"
      },
      "execution_count": null,
      "outputs": []
    },
    {
      "cell_type": "code",
      "source": [
        "from sklearn.preprocessing import LabelEncoder\n",
        "\n",
        "encoder = LabelEncoder()\n",
        "df['stroke'] = encoder.fit_transform(df['stroke'])\n"
      ],
      "metadata": {
        "id": "WWhEAUPz9Np6"
      },
      "execution_count": null,
      "outputs": []
    },
    {
      "cell_type": "code",
      "source": [
        "import numpy as np\n",
        "from tensorflow.keras.utils import to_categorical\n",
        "\n",
        "\n",
        "#trying new sequence length because stroke cycle is 2 strokes for long axis strokes and 1 for short axis strokes\n",
        "sequence_length = 2\n",
        "def create_sequences(data, labels, sequence_length):\n",
        "    X, y = [], []\n",
        "    for i in range(len(data) - sequence_length + 1):\n",
        "        X.append(data[i:(i + sequence_length)])\n",
        "        y.append(labels[i + sequence_length - 1])\n",
        "    return np.array(X), np.array(y)\n",
        "\n",
        "# Features and labels for sequence creation\n",
        "features = df[['x', 'y', 'z', 'mx', 'my', 'mz']].values\n",
        "\n"
      ],
      "metadata": {
        "id": "N3DnjWBK9R71"
      },
      "execution_count": null,
      "outputs": []
    },
    {
      "cell_type": "code",
      "source": [
        "from sklearn.model_selection import train_test_split\n",
        "\n",
        "from tensorflow.keras.utils import to_categorical\n",
        "\n",
        "# One-hot encode labels\n",
        "labels = to_categorical(labels)\n",
        "\n",
        "# Recreate sequences with one-hot encoded labels\n",
        "X, y = create_sequences(features, labels, sequence_length)\n",
        "\n",
        "# Split the data again\n",
        "X_train, X_test, y_train, y_test = train_test_split(X, y, test_size=0.2, random_state=42)\n"
      ],
      "metadata": {
        "id": "ZQNyZjZF9Urm"
      },
      "execution_count": null,
      "outputs": []
    },
    {
      "cell_type": "markdown",
      "source": [
        "LSTM- 6 features"
      ],
      "metadata": {
        "id": "GD7EctPZQAbq"
      }
    },
    {
      "cell_type": "code",
      "source": [
        "model_lstm = Sequential()\n",
        "model_lstm.add(LSTM(units=50, return_sequences=True, input_shape=(X_train.shape[1], X_train.shape[2])))\n",
        "model_lstm.add(LSTM(units=50))\n",
        "model_lstm.add(Dense(units=y_train.shape[1], activation='softmax'))  # This line should now work correctly\n",
        "\n",
        "model_lstm.compile(loss='categorical_crossentropy', optimizer='adam', metrics=['accuracy'])\n",
        "model_lstm.fit(X_train, y_train, epochs=10, batch_size=32, validation_split=0.1)\n",
        "\n",
        "# Evaluate the model\n",
        "test_loss, test_accuracy = model_lstm.evaluate(X_test, y_test)\n",
        "print(f\"Test Loss: {test_loss}\")\n",
        "print(f\"Test Accuracy: {test_accuracy}\")\n"
      ],
      "metadata": {
        "colab": {
          "base_uri": "https://localhost:8080/"
        },
        "id": "L9sRi4sl9Y_Y",
        "outputId": "76405698-767b-49ca-9da8-c7978380d059"
      },
      "execution_count": null,
      "outputs": [
        {
          "output_type": "stream",
          "name": "stdout",
          "text": [
            "Epoch 1/10\n",
            "174/174 [==============================] - 68s 15ms/step - loss: 0.8738 - accuracy: 0.6672 - val_loss: 0.4762 - val_accuracy: 0.8425\n",
            "Epoch 2/10\n",
            "174/174 [==============================] - 2s 9ms/step - loss: 0.4031 - accuracy: 0.8544 - val_loss: 0.3205 - val_accuracy: 0.8847\n",
            "Epoch 3/10\n",
            "174/174 [==============================] - 1s 6ms/step - loss: 0.3326 - accuracy: 0.8802 - val_loss: 0.2836 - val_accuracy: 0.9042\n",
            "Epoch 4/10\n",
            "174/174 [==============================] - 1s 7ms/step - loss: 0.3007 - accuracy: 0.8933 - val_loss: 0.2838 - val_accuracy: 0.9042\n",
            "Epoch 5/10\n",
            "174/174 [==============================] - 1s 7ms/step - loss: 0.2805 - accuracy: 0.9031 - val_loss: 0.2568 - val_accuracy: 0.9075\n",
            "Epoch 6/10\n",
            "174/174 [==============================] - 1s 7ms/step - loss: 0.2607 - accuracy: 0.9098 - val_loss: 0.2411 - val_accuracy: 0.9221\n",
            "Epoch 7/10\n",
            "174/174 [==============================] - 1s 7ms/step - loss: 0.2415 - accuracy: 0.9190 - val_loss: 0.2355 - val_accuracy: 0.9205\n",
            "Epoch 8/10\n",
            "174/174 [==============================] - 1s 8ms/step - loss: 0.2274 - accuracy: 0.9217 - val_loss: 0.2259 - val_accuracy: 0.9205\n",
            "Epoch 9/10\n",
            "174/174 [==============================] - 1s 7ms/step - loss: 0.2151 - accuracy: 0.9278 - val_loss: 0.2259 - val_accuracy: 0.9188\n",
            "Epoch 10/10\n",
            "174/174 [==============================] - 1s 9ms/step - loss: 0.2076 - accuracy: 0.9291 - val_loss: 0.2041 - val_accuracy: 0.9383\n",
            "49/49 [==============================] - 0s 4ms/step - loss: 0.1733 - accuracy: 0.9442\n",
            "Test Loss: 0.17325520515441895\n",
            "Test Accuracy: 0.9441558718681335\n"
          ]
        }
      ]
    },
    {
      "cell_type": "markdown",
      "source": [
        "**DTW- 6 featuers**\n"
      ],
      "metadata": {
        "id": "HF4vy1C7Umi6"
      }
    },
    {
      "cell_type": "code",
      "source": [
        "import pandas as pd\n",
        "\n",
        "# Load your dataset\n",
        "df = pd.read_csv('combined.csv')\n",
        "\n",
        "df.head()"
      ],
      "metadata": {
        "colab": {
          "base_uri": "https://localhost:8080/",
          "height": 206
        },
        "id": "0_RNJw7dXir-",
        "outputId": "7ccef739-e1d2-4c6f-e015-6f9caf6a1b5e"
      },
      "execution_count": null,
      "outputs": [
        {
          "output_type": "execute_result",
          "data": {
            "text/plain": [
              "   Time (seconds)     x    y    z     mx     my     mz  stroke\n",
              "0          155.70 -1264  -16 -200  55.05 -69.00 -95.70       1\n",
              "1          155.74 -1244    4 -172  55.80 -67.95 -94.80       1\n",
              "2          155.78 -1240  -76 -200  54.00 -67.50 -93.15       1\n",
              "3          155.81 -1304  -36 -160  54.60 -67.50 -91.65       1\n",
              "4          155.88 -1176  148 -292  51.75 -67.95 -89.10       1"
            ],
            "text/html": [
              "\n",
              "  <div id=\"df-470aedf8-7fa2-4fd8-84b6-02ac3d0ddf11\" class=\"colab-df-container\">\n",
              "    <div>\n",
              "<style scoped>\n",
              "    .dataframe tbody tr th:only-of-type {\n",
              "        vertical-align: middle;\n",
              "    }\n",
              "\n",
              "    .dataframe tbody tr th {\n",
              "        vertical-align: top;\n",
              "    }\n",
              "\n",
              "    .dataframe thead th {\n",
              "        text-align: right;\n",
              "    }\n",
              "</style>\n",
              "<table border=\"1\" class=\"dataframe\">\n",
              "  <thead>\n",
              "    <tr style=\"text-align: right;\">\n",
              "      <th></th>\n",
              "      <th>Time (seconds)</th>\n",
              "      <th>x</th>\n",
              "      <th>y</th>\n",
              "      <th>z</th>\n",
              "      <th>mx</th>\n",
              "      <th>my</th>\n",
              "      <th>mz</th>\n",
              "      <th>stroke</th>\n",
              "    </tr>\n",
              "  </thead>\n",
              "  <tbody>\n",
              "    <tr>\n",
              "      <th>0</th>\n",
              "      <td>155.70</td>\n",
              "      <td>-1264</td>\n",
              "      <td>-16</td>\n",
              "      <td>-200</td>\n",
              "      <td>55.05</td>\n",
              "      <td>-69.00</td>\n",
              "      <td>-95.70</td>\n",
              "      <td>1</td>\n",
              "    </tr>\n",
              "    <tr>\n",
              "      <th>1</th>\n",
              "      <td>155.74</td>\n",
              "      <td>-1244</td>\n",
              "      <td>4</td>\n",
              "      <td>-172</td>\n",
              "      <td>55.80</td>\n",
              "      <td>-67.95</td>\n",
              "      <td>-94.80</td>\n",
              "      <td>1</td>\n",
              "    </tr>\n",
              "    <tr>\n",
              "      <th>2</th>\n",
              "      <td>155.78</td>\n",
              "      <td>-1240</td>\n",
              "      <td>-76</td>\n",
              "      <td>-200</td>\n",
              "      <td>54.00</td>\n",
              "      <td>-67.50</td>\n",
              "      <td>-93.15</td>\n",
              "      <td>1</td>\n",
              "    </tr>\n",
              "    <tr>\n",
              "      <th>3</th>\n",
              "      <td>155.81</td>\n",
              "      <td>-1304</td>\n",
              "      <td>-36</td>\n",
              "      <td>-160</td>\n",
              "      <td>54.60</td>\n",
              "      <td>-67.50</td>\n",
              "      <td>-91.65</td>\n",
              "      <td>1</td>\n",
              "    </tr>\n",
              "    <tr>\n",
              "      <th>4</th>\n",
              "      <td>155.88</td>\n",
              "      <td>-1176</td>\n",
              "      <td>148</td>\n",
              "      <td>-292</td>\n",
              "      <td>51.75</td>\n",
              "      <td>-67.95</td>\n",
              "      <td>-89.10</td>\n",
              "      <td>1</td>\n",
              "    </tr>\n",
              "  </tbody>\n",
              "</table>\n",
              "</div>\n",
              "    <div class=\"colab-df-buttons\">\n",
              "\n",
              "  <div class=\"colab-df-container\">\n",
              "    <button class=\"colab-df-convert\" onclick=\"convertToInteractive('df-470aedf8-7fa2-4fd8-84b6-02ac3d0ddf11')\"\n",
              "            title=\"Convert this dataframe to an interactive table.\"\n",
              "            style=\"display:none;\">\n",
              "\n",
              "  <svg xmlns=\"http://www.w3.org/2000/svg\" height=\"24px\" viewBox=\"0 -960 960 960\">\n",
              "    <path d=\"M120-120v-720h720v720H120Zm60-500h600v-160H180v160Zm220 220h160v-160H400v160Zm0 220h160v-160H400v160ZM180-400h160v-160H180v160Zm440 0h160v-160H620v160ZM180-180h160v-160H180v160Zm440 0h160v-160H620v160Z\"/>\n",
              "  </svg>\n",
              "    </button>\n",
              "\n",
              "  <style>\n",
              "    .colab-df-container {\n",
              "      display:flex;\n",
              "      gap: 12px;\n",
              "    }\n",
              "\n",
              "    .colab-df-convert {\n",
              "      background-color: #E8F0FE;\n",
              "      border: none;\n",
              "      border-radius: 50%;\n",
              "      cursor: pointer;\n",
              "      display: none;\n",
              "      fill: #1967D2;\n",
              "      height: 32px;\n",
              "      padding: 0 0 0 0;\n",
              "      width: 32px;\n",
              "    }\n",
              "\n",
              "    .colab-df-convert:hover {\n",
              "      background-color: #E2EBFA;\n",
              "      box-shadow: 0px 1px 2px rgba(60, 64, 67, 0.3), 0px 1px 3px 1px rgba(60, 64, 67, 0.15);\n",
              "      fill: #174EA6;\n",
              "    }\n",
              "\n",
              "    .colab-df-buttons div {\n",
              "      margin-bottom: 4px;\n",
              "    }\n",
              "\n",
              "    [theme=dark] .colab-df-convert {\n",
              "      background-color: #3B4455;\n",
              "      fill: #D2E3FC;\n",
              "    }\n",
              "\n",
              "    [theme=dark] .colab-df-convert:hover {\n",
              "      background-color: #434B5C;\n",
              "      box-shadow: 0px 1px 3px 1px rgba(0, 0, 0, 0.15);\n",
              "      filter: drop-shadow(0px 1px 2px rgba(0, 0, 0, 0.3));\n",
              "      fill: #FFFFFF;\n",
              "    }\n",
              "  </style>\n",
              "\n",
              "    <script>\n",
              "      const buttonEl =\n",
              "        document.querySelector('#df-470aedf8-7fa2-4fd8-84b6-02ac3d0ddf11 button.colab-df-convert');\n",
              "      buttonEl.style.display =\n",
              "        google.colab.kernel.accessAllowed ? 'block' : 'none';\n",
              "\n",
              "      async function convertToInteractive(key) {\n",
              "        const element = document.querySelector('#df-470aedf8-7fa2-4fd8-84b6-02ac3d0ddf11');\n",
              "        const dataTable =\n",
              "          await google.colab.kernel.invokeFunction('convertToInteractive',\n",
              "                                                    [key], {});\n",
              "        if (!dataTable) return;\n",
              "\n",
              "        const docLinkHtml = 'Like what you see? Visit the ' +\n",
              "          '<a target=\"_blank\" href=https://colab.research.google.com/notebooks/data_table.ipynb>data table notebook</a>'\n",
              "          + ' to learn more about interactive tables.';\n",
              "        element.innerHTML = '';\n",
              "        dataTable['output_type'] = 'display_data';\n",
              "        await google.colab.output.renderOutput(dataTable, element);\n",
              "        const docLink = document.createElement('div');\n",
              "        docLink.innerHTML = docLinkHtml;\n",
              "        element.appendChild(docLink);\n",
              "      }\n",
              "    </script>\n",
              "  </div>\n",
              "\n",
              "\n",
              "<div id=\"df-fd1d56a9-ed0d-425e-b0ca-c8bbea90aa41\">\n",
              "  <button class=\"colab-df-quickchart\" onclick=\"quickchart('df-fd1d56a9-ed0d-425e-b0ca-c8bbea90aa41')\"\n",
              "            title=\"Suggest charts\"\n",
              "            style=\"display:none;\">\n",
              "\n",
              "<svg xmlns=\"http://www.w3.org/2000/svg\" height=\"24px\"viewBox=\"0 0 24 24\"\n",
              "     width=\"24px\">\n",
              "    <g>\n",
              "        <path d=\"M19 3H5c-1.1 0-2 .9-2 2v14c0 1.1.9 2 2 2h14c1.1 0 2-.9 2-2V5c0-1.1-.9-2-2-2zM9 17H7v-7h2v7zm4 0h-2V7h2v10zm4 0h-2v-4h2v4z\"/>\n",
              "    </g>\n",
              "</svg>\n",
              "  </button>\n",
              "\n",
              "<style>\n",
              "  .colab-df-quickchart {\n",
              "      --bg-color: #E8F0FE;\n",
              "      --fill-color: #1967D2;\n",
              "      --hover-bg-color: #E2EBFA;\n",
              "      --hover-fill-color: #174EA6;\n",
              "      --disabled-fill-color: #AAA;\n",
              "      --disabled-bg-color: #DDD;\n",
              "  }\n",
              "\n",
              "  [theme=dark] .colab-df-quickchart {\n",
              "      --bg-color: #3B4455;\n",
              "      --fill-color: #D2E3FC;\n",
              "      --hover-bg-color: #434B5C;\n",
              "      --hover-fill-color: #FFFFFF;\n",
              "      --disabled-bg-color: #3B4455;\n",
              "      --disabled-fill-color: #666;\n",
              "  }\n",
              "\n",
              "  .colab-df-quickchart {\n",
              "    background-color: var(--bg-color);\n",
              "    border: none;\n",
              "    border-radius: 50%;\n",
              "    cursor: pointer;\n",
              "    display: none;\n",
              "    fill: var(--fill-color);\n",
              "    height: 32px;\n",
              "    padding: 0;\n",
              "    width: 32px;\n",
              "  }\n",
              "\n",
              "  .colab-df-quickchart:hover {\n",
              "    background-color: var(--hover-bg-color);\n",
              "    box-shadow: 0 1px 2px rgba(60, 64, 67, 0.3), 0 1px 3px 1px rgba(60, 64, 67, 0.15);\n",
              "    fill: var(--button-hover-fill-color);\n",
              "  }\n",
              "\n",
              "  .colab-df-quickchart-complete:disabled,\n",
              "  .colab-df-quickchart-complete:disabled:hover {\n",
              "    background-color: var(--disabled-bg-color);\n",
              "    fill: var(--disabled-fill-color);\n",
              "    box-shadow: none;\n",
              "  }\n",
              "\n",
              "  .colab-df-spinner {\n",
              "    border: 2px solid var(--fill-color);\n",
              "    border-color: transparent;\n",
              "    border-bottom-color: var(--fill-color);\n",
              "    animation:\n",
              "      spin 1s steps(1) infinite;\n",
              "  }\n",
              "\n",
              "  @keyframes spin {\n",
              "    0% {\n",
              "      border-color: transparent;\n",
              "      border-bottom-color: var(--fill-color);\n",
              "      border-left-color: var(--fill-color);\n",
              "    }\n",
              "    20% {\n",
              "      border-color: transparent;\n",
              "      border-left-color: var(--fill-color);\n",
              "      border-top-color: var(--fill-color);\n",
              "    }\n",
              "    30% {\n",
              "      border-color: transparent;\n",
              "      border-left-color: var(--fill-color);\n",
              "      border-top-color: var(--fill-color);\n",
              "      border-right-color: var(--fill-color);\n",
              "    }\n",
              "    40% {\n",
              "      border-color: transparent;\n",
              "      border-right-color: var(--fill-color);\n",
              "      border-top-color: var(--fill-color);\n",
              "    }\n",
              "    60% {\n",
              "      border-color: transparent;\n",
              "      border-right-color: var(--fill-color);\n",
              "    }\n",
              "    80% {\n",
              "      border-color: transparent;\n",
              "      border-right-color: var(--fill-color);\n",
              "      border-bottom-color: var(--fill-color);\n",
              "    }\n",
              "    90% {\n",
              "      border-color: transparent;\n",
              "      border-bottom-color: var(--fill-color);\n",
              "    }\n",
              "  }\n",
              "</style>\n",
              "\n",
              "  <script>\n",
              "    async function quickchart(key) {\n",
              "      const quickchartButtonEl =\n",
              "        document.querySelector('#' + key + ' button');\n",
              "      quickchartButtonEl.disabled = true;  // To prevent multiple clicks.\n",
              "      quickchartButtonEl.classList.add('colab-df-spinner');\n",
              "      try {\n",
              "        const charts = await google.colab.kernel.invokeFunction(\n",
              "            'suggestCharts', [key], {});\n",
              "      } catch (error) {\n",
              "        console.error('Error during call to suggestCharts:', error);\n",
              "      }\n",
              "      quickchartButtonEl.classList.remove('colab-df-spinner');\n",
              "      quickchartButtonEl.classList.add('colab-df-quickchart-complete');\n",
              "    }\n",
              "    (() => {\n",
              "      let quickchartButtonEl =\n",
              "        document.querySelector('#df-fd1d56a9-ed0d-425e-b0ca-c8bbea90aa41 button');\n",
              "      quickchartButtonEl.style.display =\n",
              "        google.colab.kernel.accessAllowed ? 'block' : 'none';\n",
              "    })();\n",
              "  </script>\n",
              "</div>\n",
              "    </div>\n",
              "  </div>\n"
            ],
            "application/vnd.google.colaboratory.intrinsic+json": {
              "type": "dataframe",
              "variable_name": "df",
              "summary": "{\n  \"name\": \"df\",\n  \"rows\": 7698,\n  \"fields\": [\n    {\n      \"column\": \"Time (seconds)\",\n      \"properties\": {\n        \"dtype\": \"number\",\n        \"std\": 66.07024363028899,\n        \"min\": 152.03,\n        \"max\": 367.08,\n        \"num_unique_values\": 6954,\n        \"samples\": [\n          349.66,\n          349.77,\n          179.95\n        ],\n        \"semantic_type\": \"\",\n        \"description\": \"\"\n      }\n    },\n    {\n      \"column\": \"x\",\n      \"properties\": {\n        \"dtype\": \"number\",\n        \"std\": 333,\n        \"min\": -2004,\n        \"max\": 1212,\n        \"num_unique_values\": 551,\n        \"samples\": [\n          748,\n          -80,\n          -320\n        ],\n        \"semantic_type\": \"\",\n        \"description\": \"\"\n      }\n    },\n    {\n      \"column\": \"y\",\n      \"properties\": {\n        \"dtype\": \"number\",\n        \"std\": 449,\n        \"min\": -1500,\n        \"max\": 1356,\n        \"num_unique_values\": 631,\n        \"samples\": [\n          -1236,\n          464,\n          -216\n        ],\n        \"semantic_type\": \"\",\n        \"description\": \"\"\n      }\n    },\n    {\n      \"column\": \"z\",\n      \"properties\": {\n        \"dtype\": \"number\",\n        \"std\": 794,\n        \"min\": -1752,\n        \"max\": 1276,\n        \"num_unique_values\": 680,\n        \"samples\": [\n          316,\n          592,\n          -1108\n        ],\n        \"semantic_type\": \"\",\n        \"description\": \"\"\n      }\n    },\n    {\n      \"column\": \"mx\",\n      \"properties\": {\n        \"dtype\": \"number\",\n        \"std\": 16.696194634397923,\n        \"min\": -10.8,\n        \"max\": 64.5,\n        \"num_unique_values\": 482,\n        \"samples\": [\n          -3.75,\n          -1.05,\n          40.2\n        ],\n        \"semantic_type\": \"\",\n        \"description\": \"\"\n      }\n    },\n    {\n      \"column\": \"my\",\n      \"properties\": {\n        \"dtype\": \"number\",\n        \"std\": 19.67010744996515,\n        \"min\": -118.65,\n        \"max\": -7.5,\n        \"num_unique_values\": 703,\n        \"samples\": [\n          -76.65,\n          -48.9,\n          -61.05\n        ],\n        \"semantic_type\": \"\",\n        \"description\": \"\"\n      }\n    },\n    {\n      \"column\": \"mz\",\n      \"properties\": {\n        \"dtype\": \"number\",\n        \"std\": 33.864529565159195,\n        \"min\": -181.2,\n        \"max\": -49.65,\n        \"num_unique_values\": 843,\n        \"samples\": [\n          -143.55,\n          -94.95,\n          -114.75\n        ],\n        \"semantic_type\": \"\",\n        \"description\": \"\"\n      }\n    },\n    {\n      \"column\": \"stroke\",\n      \"properties\": {\n        \"dtype\": \"number\",\n        \"std\": 1,\n        \"min\": 1,\n        \"max\": 4,\n        \"num_unique_values\": 4,\n        \"samples\": [\n          2,\n          4,\n          1\n        ],\n        \"semantic_type\": \"\",\n        \"description\": \"\"\n      }\n    }\n  ]\n}"
            }
          },
          "metadata": {},
          "execution_count": 19
        }
      ]
    },
    {
      "cell_type": "code",
      "source": [
        "from sklearn.preprocessing import StandardScaler\n",
        "\n",
        "scaler = StandardScaler()\n",
        "features = ['x', 'y', 'z', 'mx', 'my', 'mz']  # Features to scale\n",
        "df[features] = scaler.fit_transform(df[features])\n"
      ],
      "metadata": {
        "id": "Dj-_ISRkXlaK"
      },
      "execution_count": null,
      "outputs": []
    },
    {
      "cell_type": "code",
      "source": [
        "from sklearn.preprocessing import LabelEncoder\n",
        "from tensorflow.keras.utils import to_categorical\n",
        "\n",
        "# Encoding labels\n",
        "encoder = LabelEncoder()\n",
        "df['stroke'] = encoder.fit_transform(df['stroke'])\n",
        "\n",
        "# Formatting for DTW\n",
        "time_series = to_time_series_dataset(df[['x', 'y', 'z', 'mx', 'my', 'mz']].values.reshape(-1, 1, 6))\n",
        "labels = df['stroke'].values"
      ],
      "metadata": {
        "id": "fkq1JhHKXnfS"
      },
      "execution_count": null,
      "outputs": []
    },
    {
      "cell_type": "code",
      "source": [
        "X_train, X_test, y_train, y_test = train_test_split(time_series, labels, test_size=0.2, random_state=42)\n"
      ],
      "metadata": {
        "id": "p2ISa19fY-z6"
      },
      "execution_count": null,
      "outputs": []
    },
    {
      "cell_type": "markdown",
      "source": [],
      "metadata": {
        "id": "XpeRh6tgUszj"
      }
    },
    {
      "cell_type": "code",
      "source": [
        "!pip3 install tslearn"
      ],
      "metadata": {
        "colab": {
          "base_uri": "https://localhost:8080/"
        },
        "id": "g-BSMfu5X8vo",
        "outputId": "8d193bd8-331b-401d-c74a-46caef115c6b"
      },
      "execution_count": null,
      "outputs": [
        {
          "output_type": "stream",
          "name": "stdout",
          "text": [
            "Collecting tslearn\n",
            "  Downloading tslearn-0.6.3-py3-none-any.whl (374 kB)\n",
            "\u001b[2K     \u001b[90m━━━━━━━━━━━━━━━━━━━━━━━━━━━━━━━━━━━━━━━━\u001b[0m \u001b[32m374.4/374.4 kB\u001b[0m \u001b[31m2.5 MB/s\u001b[0m eta \u001b[36m0:00:00\u001b[0m\n",
            "\u001b[?25hRequirement already satisfied: numpy in /usr/local/lib/python3.10/dist-packages (from tslearn) (1.25.2)\n",
            "Requirement already satisfied: scipy in /usr/local/lib/python3.10/dist-packages (from tslearn) (1.11.4)\n",
            "Requirement already satisfied: scikit-learn in /usr/local/lib/python3.10/dist-packages (from tslearn) (1.2.2)\n",
            "Requirement already satisfied: numba in /usr/local/lib/python3.10/dist-packages (from tslearn) (0.58.1)\n",
            "Requirement already satisfied: joblib in /usr/local/lib/python3.10/dist-packages (from tslearn) (1.3.2)\n",
            "Requirement already satisfied: llvmlite<0.42,>=0.41.0dev0 in /usr/local/lib/python3.10/dist-packages (from numba->tslearn) (0.41.1)\n",
            "Requirement already satisfied: threadpoolctl>=2.0.0 in /usr/local/lib/python3.10/dist-packages (from scikit-learn->tslearn) (3.3.0)\n",
            "Installing collected packages: tslearn\n",
            "Successfully installed tslearn-0.6.3\n"
          ]
        }
      ]
    },
    {
      "cell_type": "markdown",
      "source": [],
      "metadata": {
        "id": "iczswPruQI69"
      }
    },
    {
      "cell_type": "code",
      "source": [
        "from tslearn.neighbors import KNeighborsTimeSeriesClassifier\n",
        "from sklearn.metrics import accuracy_score\n",
        "\n",
        "# Convert X_train and X_test into the format for tslearn\n",
        "from tslearn.utils import to_time_series_dataset\n",
        "\n",
        "X_train_ts = to_time_series_dataset(X_train)\n",
        "X_test_ts = to_time_series_dataset(X_test)\n",
        "\n",
        "# Initialize the DTW k-nearest neighbors classifier\n",
        "model_dtw = KNeighborsTimeSeriesClassifier(n_neighbors=1, metric=\"dtw\")\n",
        "\n",
        "# Fit the model\n",
        "model_dtw.fit(X_train_ts, y_train)\n",
        "\n",
        "# Predict on the test set\n",
        "y_pred = model_dtw.predict(X_test_ts)\n",
        "\n",
        "# Calculate accuracy\n",
        "accuracy = accuracy_score(y_test, y_pred)\n",
        "print(f\"DTW Classification Accuracy: {accuracy}\")\n"
      ],
      "metadata": {
        "colab": {
          "base_uri": "https://localhost:8080/"
        },
        "id": "0YqVIfmsW2jG",
        "outputId": "75c8f53f-0ca8-4624-ca44-841261f0708f"
      },
      "execution_count": null,
      "outputs": [
        {
          "output_type": "stream",
          "name": "stdout",
          "text": [
            "DTW Classification Accuracy: 0.9545454545454546\n"
          ]
        }
      ]
    },
    {
      "cell_type": "markdown",
      "source": [],
      "metadata": {
        "id": "PPLb75X6O8pY"
      }
    }
  ]
}